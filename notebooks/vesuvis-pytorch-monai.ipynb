{
 "cells": [
  {
   "cell_type": "markdown",
   "metadata": {
    "_cell_guid": "b1076dfc-b9ad-4769-8c92-a6c4dae69d19",
    "_uuid": "8f2839f25d086af736a60e9eeb907d3b93b6e0e5"
   },
   "source": [
    "# Vesuvis PyTorch ⚡ MONAI \n",
    "From https://www.kaggle.com/code/clemchris/vesuvis-pytorch-monai\n",
    "\n",
    "## Nice [MONAI](https://docs.monai.io/en/stable/index.html) Features:\n",
    "- [CSVDataset](https://docs.monai.io/en/stable/data.html#csvdataset) to easily create dataset from DataFrame containing paths to volumes, masks, and labels\n",
    "- [RandWeightedCropd](https://docs.monai.io/en/stable/transforms.html#randweightedcropd) to create multiple random crops weighted with the mask\n",
    "- [matshow3d()](https://docs.monai.io/en/stable/visualize.html#monai.visualize.utils.matshow3d) function to quickly visualize volumes, masks, and labels\n",
    "- [UNet](https://docs.monai.io/en/stable/networks.html#unet) implementation\n",
    "- [DiceLoss](https://docs.monai.io/en/stable/losses.html#diceloss) implementation (Jaccard & DiceCELoss available as well)\n",
    "- [sliding_window_inference](https://docs.monai.io/en/stable/inferers.html#monai.inferers.sliding_window_inference) to run prediction on whole volume using patches\n",
    "\n",
    "## Nice [PyTorch Lightning](https://lightning.ai/docs/pytorch/stable/) Features:\n",
    "- [LightningDataModule](https://lightning.ai/docs/pytorch/stable/api/lightning.pytorch.core.LightningDataModule.html) to set up the train and val datasets, transforms, and dataloaders\n",
    "- [LightningModule](https://lightning.ai/docs/pytorch/stable/api/lightning.pytorch.core.LightningModule.html) to set up the model, loss, metrics, optimizer, scheduler, logging, callbacks, training and validation steps\n",
    "- [Trainer](https://lightning.ai/docs/pytorch/stable/api/lightning.pytorch.trainer.trainer.Trainer.html) to run training on (multiple) GPUs with mixed precision"
   ]
  },
  {
   "cell_type": "markdown",
   "metadata": {},
   "source": [
    "# Imports"
   ]
  },
  {
   "cell_type": "code",
   "execution_count": null,
   "metadata": {
    "execution": {
     "iopub.execute_input": "2023-05-02T13:01:17.317786Z",
     "iopub.status.busy": "2023-05-02T13:01:17.317280Z",
     "iopub.status.idle": "2023-05-02T13:01:31.218917Z",
     "shell.execute_reply": "2023-05-02T13:01:31.217827Z",
     "shell.execute_reply.started": "2023-05-02T13:01:17.317706Z"
    }
   },
   "outputs": [],
   "source": [
    "from collections import defaultdict\n",
    "from io import StringIO\n",
    "from pathlib import Path\n",
    "from typing import Tuple\n",
    "\n",
    "import lovely_numpy as ln\n",
    "import monai\n",
    "import matplotlib.pyplot as plt\n",
    "import numpy as np\n",
    "import pandas as pd\n",
    "import PIL.Image as Image\n",
    "import pytorch_lightning as pl\n",
    "import seaborn as sns\n",
    "import torch\n",
    "from monai.data import CSVDataset, CacheDataset\n",
    "from monai.data import DataLoader\n",
    "from monai.inferers import sliding_window_inference\n",
    "from monai.visualize import matshow3d\n",
    "from torchmetrics import Dice\n",
    "from torchmetrics import MetricCollection\n",
    "from torchmetrics.classification import BinaryFBetaScore\n",
    "from tqdm.auto import tqdm"
   ]
  },
  {
   "cell_type": "code",
   "execution_count": null,
   "metadata": {},
   "outputs": [],
   "source": [
    "torch.cuda.is_available()"
   ]
  },
  {
   "cell_type": "code",
   "execution_count": null,
   "metadata": {},
   "outputs": [],
   "source": [
    "torch.cuda.device_count()"
   ]
  },
  {
   "cell_type": "code",
   "execution_count": null,
   "metadata": {},
   "outputs": [],
   "source": [
    "torch.cuda.current_device()"
   ]
  },
  {
   "cell_type": "code",
   "execution_count": null,
   "metadata": {},
   "outputs": [],
   "source": [
    "torch.cuda.get_device_name(0)"
   ]
  },
  {
   "cell_type": "markdown",
   "metadata": {},
   "source": [
    "# Paths & Settings"
   ]
  },
  {
   "cell_type": "code",
   "execution_count": 55,
   "metadata": {
    "execution": {
     "iopub.execute_input": "2023-05-02T13:02:04.167753Z",
     "iopub.status.busy": "2023-05-02T13:02:04.166786Z",
     "iopub.status.idle": "2023-05-02T13:02:04.176639Z",
     "shell.execute_reply": "2023-05-02T13:02:04.175532Z",
     "shell.execute_reply.started": "2023-05-02T13:02:04.167700Z"
    }
   },
   "outputs": [],
   "source": [
    "COMPETITION_DATA_DIR = Path(\"/data\")\n",
    "\n",
    "TRAIN_DATA_CSV_PATH = COMPETITION_DATA_DIR / \"data.csv\"\n",
    "TEST_DATA_CSV_PATH = COMPETITION_DATA_DIR/\"test.csv\"\n",
    "\n",
    "NUM_Z_SLICES = 65\n",
    "\n",
    "ACCELERATOR = \"gpu\"\n",
    "BATCH_SIZE = 1\n",
    "DEVICES = 1\n",
    "DROPOUT = 0.0\n",
    "ETA_MIN = 1e-6\n",
    "FAST_DEV_RUN = False\n",
    "INTENSITY_TRANSFORM = \"NormalizeIntensity\"\n",
    "LEARNING_RATE = 0.01\n",
    "LOSS = \"BCE\"\n",
    "MODEL_NAME = \"FlexibleUNet_efficientnet-b0\"\n",
    "MAX_EPOCHS = 100\n",
    "NUM_WORKERS = 40\n",
    "NUM_SAMPLES = 12\n",
    "OPTIMIZER = \"SGD\"\n",
    "OVERFIT_BATCHES = 0\n",
    "PATCH_SIZE = (512, 512)\n",
    "PRECISION = 16\n",
    "RAND_TRANSFORMS = \"RandZoom-RandGaussianNoise-RandGaussianSmooth-RandScaleIntensity-RandFlip0-RandFlip1\"\n",
    "SCHEDULER = \"CosineAnnealingLR\"\n",
    "SEED = 2023\n",
    "SW_BATCH_SIZE = 4\n",
    "VAL_FRAGMENT_ID = \"1\"\n",
    "WEIGHT_DECAY = 1e-6\n",
    "\n",
    "THRESHOLD = 0.5"
   ]
  },
  {
   "cell_type": "markdown",
   "metadata": {},
   "source": [
    "# Lightning Datamodule"
   ]
  },
  {
   "cell_type": "code",
   "execution_count": null,
   "metadata": {
    "execution": {
     "iopub.execute_input": "2023-05-02T13:02:07.977440Z",
     "iopub.status.busy": "2023-05-02T13:02:07.976914Z",
     "iopub.status.idle": "2023-05-02T13:02:08.001351Z",
     "shell.execute_reply": "2023-05-02T13:02:08.000063Z",
     "shell.execute_reply.started": "2023-05-02T13:02:07.977403Z"
    }
   },
   "outputs": [],
   "source": [
    "class VesuvisDataModule(pl.LightningDataModule):\n",
    "    def __init__(\n",
    "        self,\n",
    "        batch_size: int,\n",
    "        data_csv_path: str,\n",
    "        intensity_transform: str,\n",
    "        num_workers: int,\n",
    "        num_samples: int,\n",
    "        patch_size: Tuple[int, int],\n",
    "        rand_transforms: str,\n",
    "        val_fragment_id: str,\n",
    "    ):\n",
    "        super().__init__()\n",
    "\n",
    "        self.save_hyperparameters()\n",
    "\n",
    "        self.df = pd.read_csv(data_csv_path)\n",
    "\n",
    "        self.keys = (\"volume_npy\", \"mask_npy\", \"label_npy\")\n",
    "        self.train_transform = self._init_train_transform()\n",
    "        self.val_transform = self._init_val_transform()\n",
    "        self.predict_transform = self._init_predict_transform()\n",
    "        \n",
    "    def _load_transforms(self, predict: bool = False):\n",
    "        return [\n",
    "            monai.transforms.LoadImaged(\n",
    "                keys=\"volume_npy\",\n",
    "            ),\n",
    "            monai.transforms.LoadImaged(\n",
    "                keys=(\"mask_npy\", \"label_npy\") if not predict else \"mask_npy\",\n",
    "                ensure_channel_first=True,\n",
    "            ),\n",
    "        ]\n",
    "\n",
    "    @property\n",
    "    def _intensity_transforms(self):\n",
    "        if self.hparams.intensity_transform == \"NormalizeIntensity\":\n",
    "            return [\n",
    "                monai.transforms.NormalizeIntensityd(\n",
    "                    keys=\"volume_npy\",\n",
    "                    nonzero=True,\n",
    "                    channel_wise=True,\n",
    "                ),\n",
    "            ]\n",
    "        elif self.hparams.intensity_transform == \"ScaleIntensity\":\n",
    "            return [\n",
    "                monai.transforms.ScaleIntensityd(\n",
    "                    keys=\"volume_npy\",\n",
    "                ),\n",
    "            ]\n",
    "        else:\n",
    "            raise ValueError(f\"{self.hparams.intensity_transform} is not implemented\")\n",
    "            \n",
    "    @property\n",
    "    def _rand_transforms(self):\n",
    "        all_rand_transforms = {\n",
    "            \"RandAffine\": monai.transforms.RandAffined(\n",
    "                keys=self.keys,\n",
    "                prob=0.75,\n",
    "                rotate_range=(np.pi / 4, np.pi / 4),\n",
    "                translate_range=(0.0625, 0.0625),\n",
    "                scale_range=(0.1, 0.1),\n",
    "            ),\n",
    "            \"RandFlip0\": monai.transforms.RandFlipd(\n",
    "                keys=self.keys,\n",
    "                spatial_axis=0,\n",
    "                prob=0.5,\n",
    "            ),\n",
    "            \"RandFlip1\": monai.transforms.RandFlipd(\n",
    "                keys=self.keys,\n",
    "                spatial_axis=1,\n",
    "                prob=0.5,\n",
    "            ),\n",
    "            \"RandGaussianNoise\": monai.transforms.RandGaussianNoised(\n",
    "                keys=\"volume_npy\",\n",
    "                prob=0.15,\n",
    "                mean=0.0,\n",
    "                std=0.01,\n",
    "            ),\n",
    "            \"RandGaussianSmooth\": monai.transforms.RandGaussianSmoothd(\n",
    "                keys=\"volume_npy\",\n",
    "                prob=0.15,\n",
    "                sigma_x=(0.5, 1.15),\n",
    "                sigma_y=(0.5, 1.15),\n",
    "            ),\n",
    "            \"RandScaleIntensity\": monai.transforms.RandScaleIntensityd(\n",
    "                keys=\"volume_npy\",\n",
    "                factors=0.3,\n",
    "                prob=0.15,\n",
    "            ),\n",
    "            \"RandZoom\": monai.transforms.RandZoomd(\n",
    "                keys=self.keys,\n",
    "                min_zoom=0.9,\n",
    "                max_zoom=1.2,\n",
    "                mode=(\"bilinear\", \"nearest\", \"nearest\"),\n",
    "                align_corners=(True, None, None),\n",
    "                prob=0.15,\n",
    "            ),\n",
    "        }\n",
    "\n",
    "        rand_transforms = [\n",
    "            monai.transforms.RandCropByPosNegLabeld(\n",
    "                keys=self.keys,\n",
    "                label_key=\"label_npy\",\n",
    "                spatial_size=self.hparams.patch_size,\n",
    "                num_samples=self.hparams.num_samples,\n",
    "                image_key=\"volume_npy\",\n",
    "                image_threshold=0,\n",
    "            ),\n",
    "        ]\n",
    "\n",
    "        if self.hparams.rand_transforms is not None:\n",
    "            for rand_transform in self.hparams.rand_transforms.split(\"-\"):\n",
    "                rand_transforms.append(all_rand_transforms[rand_transform])\n",
    "\n",
    "        return rand_transforms\n",
    "    \n",
    "    def _init_train_transform(self):\n",
    "#         return monai.transforms.Compose(self._load_transforms() + self._intensity_transforms + self._rand_transforms)\n",
    "        return monai.transforms.Compose(self._intensity_transforms + self._rand_transforms)\n",
    "\n",
    "    def _init_val_transform(self):\n",
    "        return monai.transforms.Compose(self._intensity_transforms)\n",
    "#         return monai.transforms.Compose(self._load_transforms() + self._intensity_transforms)\n",
    "\n",
    "    def _init_predict_transform(self):\n",
    "        return monai.transforms.Compose(self._intensity_transforms)\n",
    "#         return monai.transforms.Compose(self._load_transforms(predict=True) + self._intensity_transforms)\n",
    "\n",
    "    def setup(self, stage=None):\n",
    "        if stage == \"fit\" or stage is None:\n",
    "            train_val_df = self.df[self.df.stage == \"train\"].reset_index(drop=True)\n",
    "\n",
    "            train_df = train_val_df[train_val_df.fragment_id != int(self.hparams.val_fragment_id)].reset_index(\n",
    "                drop=True\n",
    "            )\n",
    "\n",
    "            val_df = train_val_df[train_val_df.fragment_id == int(self.hparams.val_fragment_id)].reset_index(drop=True)\n",
    "\n",
    "            self.train_dataset = self._dataset(train_df, self._load_transforms(), self.train_transform)\n",
    "            self.val_dataset = self._dataset(val_df, self._load_transforms(), self.val_transform)\n",
    "\n",
    "            print(f\"# train: {len(self.train_dataset)}\")\n",
    "            print(f\"# val: {len(self.val_dataset)}\")\n",
    "\n",
    "        if stage == \"predict\" or stage is None:\n",
    "            predict_df = self.df[self.df.stage == \"test\"].reset_index(drop=True)\n",
    "            self.predict_dataset = self._dataset(predict_df, self._load_transforms(predict=True), self.predict_transform)\n",
    "\n",
    "            print(f\"# predict: {len(self.predict_dataset)}\")\n",
    "\n",
    "    def _dataset(self, df, load_transform, transform):\n",
    "        return CacheDataset(\n",
    "    data=CSVDataset(\n",
    "            src=df,\n",
    "            transform=monai.transforms.Compose(load_transform),\n",
    "        ),\n",
    "            transform=transform,\n",
    "            cache_rate=1.0, runtime_cache=\"processes\", copy_cache=False\n",
    ")\n",
    "\n",
    "    def train_dataloader(self):\n",
    "        return self._dataloader(self.train_dataset, train=True)\n",
    "\n",
    "    def val_dataloader(self):\n",
    "        return self._dataloader(self.val_dataset)\n",
    "\n",
    "    def predict_dataloader(self):\n",
    "        return self._dataloader(self.predict_dataset)\n",
    "\n",
    "    def _dataloader(self, dataset, train=False):\n",
    "        return DataLoader(\n",
    "            dataset,\n",
    "            batch_size=self.hparams.batch_size,\n",
    "            shuffle=train,\n",
    "            num_workers=self.hparams.num_workers,\n",
    "            pin_memory=True,\n",
    "            drop_last=train,\n",
    "        )"
   ]
  },
  {
   "cell_type": "markdown",
   "metadata": {},
   "source": [
    "# Visualize Data"
   ]
  },
  {
   "cell_type": "code",
   "execution_count": 58,
   "metadata": {
    "execution": {
     "iopub.execute_input": "2023-05-02T13:02:10.136872Z",
     "iopub.status.busy": "2023-05-02T13:02:10.135870Z",
     "iopub.status.idle": "2023-05-02T13:03:03.066004Z",
     "shell.execute_reply": "2023-05-02T13:03:03.064825Z",
     "shell.execute_reply.started": "2023-05-02T13:02:10.136822Z"
    }
   },
   "outputs": [],
   "source": [
    "data_module = VesuvisDataModule(\n",
    "    batch_size=BATCH_SIZE,\n",
    "    data_csv_path=TRAIN_DATA_CSV_PATH,\n",
    "    intensity_transform=\"ScaleIntensity\",\n",
    "    num_workers=NUM_WORKERS,\n",
    "    num_samples=2,\n",
    "    rand_transforms=RAND_TRANSFORMS,\n",
    "    patch_size=PATCH_SIZE,\n",
    "    val_fragment_id=VAL_FRAGMENT_ID,\n",
    ")\n"
   ]
  },
  {
   "cell_type": "code",
   "execution_count": 59,
   "metadata": {},
   "outputs": [
    {
     "name": "stdout",
     "output_type": "stream",
     "text": [
      "# train: 2\n",
      "# val: 1\n",
      "# predict: 0\n"
     ]
    }
   ],
   "source": [
    "data_module.setup()\n"
   ]
  },
  {
   "cell_type": "code",
   "execution_count": 60,
   "metadata": {},
   "outputs": [],
   "source": [
    "\n",
    "dataloaders = {\n",
    "    \"train\": data_module.train_dataloader(),\n",
    "    \"val\": data_module.val_dataloader(),\n",
    "}\n",
    "\n"
   ]
  },
  {
   "cell_type": "code",
   "execution_count": null,
   "metadata": {
    "execution": {
     "iopub.execute_input": "2023-05-02T13:02:09.206436Z",
     "iopub.status.busy": "2023-05-02T13:02:09.205701Z",
     "iopub.status.idle": "2023-05-02T13:02:09.215092Z",
     "shell.execute_reply": "2023-05-02T13:02:09.213722Z",
     "shell.execute_reply.started": "2023-05-02T13:02:09.206394Z"
    }
   },
   "outputs": [],
   "source": [
    "def visualize_dataloaders(dataloaders, train=True):\n",
    "    for stage, dataloader in dataloaders.items():\n",
    "        print(stage, len(dataloader))\n",
    "        for batch_idx, batch in enumerate(dataloader):\n",
    "            print(batch_idx)\n",
    "            volumes = batch[\"volume_npy\"]\n",
    "            masks = batch[\"mask_npy\"]\n",
    "            \n",
    "            if train:\n",
    "                labels = batch[\"label_npy\"]\n",
    "            else: \n",
    "                labels = masks\n",
    "\n",
    "            print(volumes.shape)\n",
    "            print(masks.shape)\n",
    "                \n",
    "            for volume, mask, label in zip(volumes, masks, labels):\n",
    "                fig, axes = plt.subplots(1, 3, figsize=(15, 5))\n",
    "                plt.suptitle(f\"stage: {stage}, fragment: {batch_idx}\")\n",
    "\n",
    "                for idx, image in enumerate((volume, mask, label)):\n",
    "                    matshow3d(\n",
    "                        volume=image,\n",
    "                        fig=axes[idx],\n",
    "                        title=f\"{list(image.shape)}, {image.min().item():.2f}, {image.max().item():.2f}\",\n",
    "                        vmin=0.0,\n",
    "                        vmax=1.0,\n",
    "                        every_n=1,\n",
    "                        fill_value=1.0,\n",
    "                        margin=4,\n",
    "                        cmap=\"gray\",\n",
    "                    )\n",
    "                plt.show()"
   ]
  },
  {
   "cell_type": "code",
   "execution_count": null,
   "metadata": {
    "scrolled": false
   },
   "outputs": [],
   "source": [
    "# visualize_dataloaders(dataloaders)"
   ]
  },
  {
   "cell_type": "markdown",
   "metadata": {},
   "source": [
    "# Lightning Module"
   ]
  },
  {
   "cell_type": "code",
   "execution_count": 61,
   "metadata": {
    "execution": {
     "iopub.execute_input": "2023-05-02T13:12:28.197076Z",
     "iopub.status.busy": "2023-05-02T13:12:28.196620Z",
     "iopub.status.idle": "2023-05-02T13:12:28.230363Z",
     "shell.execute_reply": "2023-05-02T13:12:28.229159Z",
     "shell.execute_reply.started": "2023-05-02T13:12:28.197036Z"
    }
   },
   "outputs": [],
   "source": [
    "class VesuvisModule(pl.LightningModule):\n",
    "    def __init__(\n",
    "        self,\n",
    "        dropout: float,\n",
    "        eta_min: float,\n",
    "        learning_rate: float,\n",
    "        loss: str,\n",
    "        model_name: str,\n",
    "        max_epochs: int,\n",
    "        num_z_slices: int,\n",
    "        optimizer: str,\n",
    "        patch_size: Tuple[int, int],\n",
    "        scheduler: str,\n",
    "        sw_batch_size: int,\n",
    "        weight_decay: float,\n",
    "    ):\n",
    "        super().__init__()\n",
    "\n",
    "        self.save_hyperparameters()\n",
    "\n",
    "        self.model = self._init_model()\n",
    "\n",
    "        self.loss = self._init_loss()\n",
    "\n",
    "        self.metrics = self._init_metrics()\n",
    "\n",
    "    def _init_model(self):\n",
    "        # TODO: add more models\n",
    "        if self.hparams.model_name == \"UNet\":\n",
    "            return monai.networks.nets.UNet(\n",
    "                spatial_dims=2,\n",
    "                in_channels=self.hparams.num_z_slices,\n",
    "                out_channels=1,\n",
    "                channels=(16, 32, 64, 128, 256),\n",
    "                strides=(2, 2, 2, 2),\n",
    "                num_res_units=2,\n",
    "                dropout=self.hparams.dropout,\n",
    "            )\n",
    "        elif \"FlexibleUNet\" in self.hparams.model_name:\n",
    "            return monai.networks.nets.FlexibleUNet(\n",
    "                in_channels=self.hparams.num_z_slices,\n",
    "                out_channels=1,\n",
    "                backbone=self.hparams.model_name.split(\"_\")[1],\n",
    "                pretrained=True,\n",
    "                spatial_dims=2,\n",
    "                dropout=self.hparams.dropout,\n",
    "            )\n",
    "        else:\n",
    "            raise ValueError(f\"{self.hparams.model_name} is not implemented\")\n",
    "\n",
    "    def _init_loss(self):\n",
    "        if self.hparams.loss == \"BCE\":\n",
    "            loss = torch.nn.BCEWithLogitsLoss()\n",
    "        elif self.hparams.loss == \"Dice\":\n",
    "            loss = monai.losses.DiceLoss(sigmoid=True)\n",
    "        elif self.hparams.loss == \"Jaccard\":\n",
    "            loss = monai.losses.DiceLoss(\n",
    "                sigmoid=True,\n",
    "                jaccard=True,\n",
    "            )\n",
    "        elif self.hparams.loss == \"DiceCE\":\n",
    "            loss = monai.losses.DiceCELoss(sigmoid=True)\n",
    "        else:\n",
    "            raise ValueError(f\"{self.hparams.loss} is not implemented\")\n",
    "\n",
    "        return monai.losses.MaskedLoss(loss)\n",
    "\n",
    "    def _init_metrics(self):\n",
    "        metric_collection = MetricCollection(\n",
    "            {\n",
    "                \"dice\": Dice(),\n",
    "                \"fbeta\": BinaryFBetaScore(beta=0.5),\n",
    "            }\n",
    "        )\n",
    "\n",
    "        return torch.nn.ModuleDict(\n",
    "            {\n",
    "                \"train_metrics\": metric_collection.clone(prefix=\"train_\"),\n",
    "                \"val_metrics\": metric_collection.clone(prefix=\"val_\"),\n",
    "            }\n",
    "        )\n",
    "\n",
    "    def configure_optimizers(self):\n",
    "        optimizer = self._init_optimizer()\n",
    "        scheduler = self._init_scheduler(optimizer)\n",
    "\n",
    "        return {\n",
    "            \"optimizer\": optimizer,\n",
    "            \"lr_scheduler\": {\n",
    "                \"scheduler\": scheduler,\n",
    "                \"interval\": \"epoch\",\n",
    "            },\n",
    "        }\n",
    "\n",
    "    def _init_optimizer(self):\n",
    "        if self.hparams.optimizer == \"Adam\":\n",
    "            return torch.optim.Adam(\n",
    "                params=self.parameters(),\n",
    "                lr=self.hparams.learning_rate,\n",
    "                weight_decay=self.hparams.weight_decay,\n",
    "            )\n",
    "        elif self.hparams.optimizer == \"AdamW\":\n",
    "            return torch.optim.AdamW(\n",
    "                params=self.parameters(),\n",
    "                lr=self.hparams.learning_rate,\n",
    "                weight_decay=self.hparams.weight_decay,\n",
    "            )\n",
    "        elif self.hparams.optimizer == \"SGD\":\n",
    "            return torch.optim.SGD(\n",
    "                params=self.parameters(),\n",
    "                lr=self.hparams.learning_rate,\n",
    "                momentum=0.99,\n",
    "                nesterov=True,\n",
    "            )\n",
    "        else:\n",
    "            raise ValueError(f\"{self.hparams.optimizer} is not implemented\")\n",
    "\n",
    "    def _init_scheduler(self, optimizer):\n",
    "        if self.hparams.scheduler == \"CosineAnnealingLR\":\n",
    "            return torch.optim.lr_scheduler.CosineAnnealingLR(\n",
    "                optimizer,\n",
    "                T_max=self.hparams.max_epochs,\n",
    "                eta_min=self.hparams.eta_min,\n",
    "            )\n",
    "        elif self.hparams.scheduler == \"StepLR\":\n",
    "            return torch.optim.lr_scheduler.StepLR(\n",
    "                optimizer,\n",
    "                step_size=self.hparams.max_epochs // 5,\n",
    "                gamma=0.95,\n",
    "            )\n",
    "        elif self.hparams.scheduler == \"PolyLR\":\n",
    "            return torch.optim.lr_scheduler.LambdaLR(\n",
    "                optimizer, lr_lambda=lambda epoch: (1 - epoch / self.hparams.max_epochs) ** 0.9\n",
    "            )\n",
    "        else:\n",
    "            raise ValueError(f\"{self.hparams.scheduler} is not implemented\")\n",
    "\n",
    "    def forward(self, x):\n",
    "        return self.model(x)\n",
    "\n",
    "    def training_step(self, batch):\n",
    "        return self._shared_step(batch, \"train\")\n",
    "\n",
    "    def validation_step(self, batch, batch_idx):\n",
    "        self._shared_step(batch, \"val\")\n",
    "\n",
    "    def predict_step(self, batch, batch_idx):\n",
    "        outputs = self._forward_pass(batch, \"predict\")\n",
    "        return outputs.sigmoid().squeeze()\n",
    "\n",
    "    def _shared_step(self, batch, stage):\n",
    "        outputs, labels, masks = self._forward_pass(batch, stage)\n",
    "\n",
    "        loss = self.loss(outputs, labels, masks)\n",
    "\n",
    "        self.metrics[f\"{stage}_metrics\"](outputs, labels)\n",
    "\n",
    "        self._log(loss, stage, batch_size=len(outputs))\n",
    "\n",
    "        return loss\n",
    "\n",
    "    def _forward_pass(self, batch, stage):\n",
    "        volumes = batch[\"volume_npy\"].as_tensor()\n",
    "        masks = batch[\"mask_npy\"].as_tensor()\n",
    "\n",
    "        if stage == \"train\":\n",
    "            outputs = self(volumes)\n",
    "        elif stage == \"val\":\n",
    "            outputs = sliding_window_inference(\n",
    "                inputs=volumes,\n",
    "                roi_size=self.hparams.patch_size,\n",
    "                sw_batch_size=self.hparams.sw_batch_size,\n",
    "                predictor=self,\n",
    "                overlap=0.5,\n",
    "                mode=\"gaussian\",\n",
    "            )\n",
    "        elif stage == \"predict\":\n",
    "            outputs = sliding_window_inference(\n",
    "                inputs=volumes,\n",
    "                roi_size=self.hparams.patch_size,\n",
    "                sw_batch_size=self.hparams.sw_batch_size,\n",
    "                predictor=self,\n",
    "                overlap=0.5,\n",
    "                mode=\"gaussian\",\n",
    "            )\n",
    "\n",
    "            ct = 1.0\n",
    "            for dims in [[2], [3], [2, 3]]:\n",
    "                flip_inputs = torch.flip(volumes, dims)\n",
    "                flip_outputs = torch.flip(\n",
    "                    sliding_window_inference(\n",
    "                        inputs=flip_inputs,\n",
    "                        roi_size=self.hparams.patch_size,\n",
    "                        sw_batch_size=self.hparams.sw_batch_size,\n",
    "                        predictor=self,\n",
    "                        overlap=0.5,\n",
    "                        mode=\"gaussian\",\n",
    "                    ),\n",
    "                    dims,\n",
    "                )\n",
    "                del flip_inputs\n",
    "                outputs += flip_outputs\n",
    "                del flip_outputs\n",
    "                ct += 1.0\n",
    "\n",
    "            outputs /= ct\n",
    "            \n",
    "            return outputs\n",
    "\n",
    "        try:\n",
    "            labels = batch[\"label_npy\"].as_tensor().long()\n",
    "            return outputs, labels, masks\n",
    "        except KeyError:\n",
    "            return outputs, masks\n",
    "\n",
    "    def _log(self, loss, stage, batch_size):\n",
    "        self.log(f\"{stage}_loss\", loss, batch_size=batch_size)\n",
    "        self.log_dict(self.metrics[f\"{stage}_metrics\"], batch_size=batch_size)"
   ]
  },
  {
   "cell_type": "markdown",
   "metadata": {},
   "source": [
    "# Train"
   ]
  },
  {
   "cell_type": "code",
   "execution_count": 62,
   "metadata": {
    "execution": {
     "iopub.execute_input": "2023-05-02T13:12:35.785574Z",
     "iopub.status.busy": "2023-05-02T13:12:35.784733Z",
     "iopub.status.idle": "2023-05-02T13:12:35.796943Z",
     "shell.execute_reply": "2023-05-02T13:12:35.795720Z",
     "shell.execute_reply.started": "2023-05-02T13:12:35.785535Z"
    }
   },
   "outputs": [],
   "source": [
    "def train(\n",
    "    accelerator=ACCELERATOR,\n",
    "    batch_size=BATCH_SIZE,\n",
    "    data_csv_path=TRAIN_DATA_CSV_PATH,\n",
    "    devices=DEVICES,\n",
    "    dropout=DROPOUT,\n",
    "    eta_min=ETA_MIN,\n",
    "    fast_dev_run=FAST_DEV_RUN,\n",
    "    intensity_transform=INTENSITY_TRANSFORM,\n",
    "    learning_rate=LEARNING_RATE,\n",
    "    loss=LOSS,\n",
    "    model_name=MODEL_NAME,\n",
    "    max_epochs=MAX_EPOCHS,\n",
    "    num_workers=NUM_WORKERS,\n",
    "    num_samples=NUM_SAMPLES,\n",
    "    num_z_slices=NUM_Z_SLICES,\n",
    "    optimizer=OPTIMIZER,\n",
    "    overfit_batches=OVERFIT_BATCHES,\n",
    "    patch_size=PATCH_SIZE,\n",
    "    precision=PRECISION,\n",
    "    rand_transforms=RAND_TRANSFORMS,\n",
    "    scheduler=SCHEDULER,\n",
    "    seed=SEED,\n",
    "    sw_batch_size=SW_BATCH_SIZE,\n",
    "    val_fragment_id=VAL_FRAGMENT_ID,\n",
    "    weight_decay=WEIGHT_DECAY,\n",
    "):\n",
    "    monai.utils.set_determinism(seed)\n",
    "    pl.seed_everything(seed, workers=True)\n",
    "\n",
    "    data_module = VesuvisDataModule(\n",
    "        batch_size=batch_size,\n",
    "        data_csv_path=data_csv_path,\n",
    "        intensity_transform=intensity_transform,\n",
    "        num_workers=num_workers,\n",
    "        num_samples=num_samples,\n",
    "        patch_size=patch_size,\n",
    "        rand_transforms=rand_transforms,\n",
    "        val_fragment_id=val_fragment_id,\n",
    "    )\n",
    "\n",
    "    module = VesuvisModule(\n",
    "        dropout=dropout,\n",
    "        eta_min=eta_min,\n",
    "        learning_rate=learning_rate,\n",
    "        loss=loss,\n",
    "        model_name=model_name,\n",
    "        max_epochs=max_epochs,\n",
    "        num_z_slices=num_z_slices,\n",
    "        optimizer=optimizer,\n",
    "        patch_size=patch_size,\n",
    "        scheduler=scheduler,\n",
    "        sw_batch_size=sw_batch_size,\n",
    "        weight_decay=weight_decay,\n",
    "    )\n",
    "\n",
    "    trainer = pl.Trainer(\n",
    "        accelerator=accelerator,\n",
    "        benchmark=True,\n",
    "        check_val_every_n_epoch=1,\n",
    "        devices=devices,\n",
    "        fast_dev_run=fast_dev_run,\n",
    "        logger=pl.loggers.CSVLogger(save_dir='logs/'),\n",
    "        log_every_n_steps=1,\n",
    "        max_epochs=max_epochs,\n",
    "        overfit_batches=overfit_batches,\n",
    "        precision=precision,\n",
    "        strategy=\"ddp\" if devices > 1 else 'auto',\n",
    "    )\n",
    "\n",
    "    trainer.fit(module, datamodule=data_module)\n",
    "\n",
    "    return module, trainer"
   ]
  },
  {
   "cell_type": "code",
   "execution_count": null,
   "metadata": {
    "execution": {
     "iopub.execute_input": "2023-05-02T13:12:37.287074Z",
     "iopub.status.busy": "2023-05-02T13:12:37.285868Z"
    },
    "scrolled": false
   },
   "outputs": [
    {
     "name": "stdout",
     "output_type": "stream",
     "text": [
      "2023-05-04 08:36:54,257 - Global seed set to 2023\n",
      "2023-05-04 08:36:55,742 - Using 16bit Automatic Mixed Precision (AMP)\n",
      "2023-05-04 08:36:55,763 - GPU available: True (cuda), used: True\n",
      "2023-05-04 08:36:55,764 - TPU available: False, using: 0 TPU cores\n",
      "2023-05-04 08:36:55,765 - IPU available: False, using: 0 IPUs\n",
      "2023-05-04 08:36:55,766 - HPU available: False, using: 0 HPUs\n"
     ]
    },
    {
     "name": "stderr",
     "output_type": "stream",
     "text": [
      "/opt/conda/lib/python3.10/site-packages/lightning_fabric/connector.py:562: UserWarning: 16 is supported for historical reasons but its usage is discouraged. Please set your precision to 16-mixed instead!\n",
      "  rank_zero_warn(\n"
     ]
    },
    {
     "name": "stdout",
     "output_type": "stream",
     "text": [
      "# train: 2\n",
      "# val: 1\n",
      "2023-05-04 08:36:56,439 - LOCAL_RANK: 0 - CUDA_VISIBLE_DEVICES: [0,1]\n",
      "2023-05-04 08:36:56,604 - \n",
      "  | Name    | Type         | Params\n",
      "-----------------------------------------\n",
      "0 | model   | FlexibleUNet | 7.5 M \n",
      "1 | loss    | MaskedLoss   | 0     \n",
      "2 | metrics | ModuleDict   | 0     \n",
      "-----------------------------------------\n",
      "7.5 M     Trainable params\n",
      "0         Non-trainable params\n",
      "7.5 M     Total params\n",
      "30.183    Total estimated model params size (MB)\n"
     ]
    },
    {
     "name": "stderr",
     "output_type": "stream",
     "text": [
      "/opt/conda/lib/python3.10/site-packages/lightning_fabric/loggers/csv_logs.py:188: UserWarning: Experiment logs directory logs/lightning_logs/version_0 exists and is not empty. Previous log files in this directory will be deleted when the new ones are saved!\n",
      "  rank_zero_warn(\n"
     ]
    },
    {
     "data": {
      "application/vnd.jupyter.widget-view+json": {
       "model_id": "",
       "version_major": 2,
       "version_minor": 0
      },
      "text/plain": [
       "Sanity Checking: 0it [00:00, ?it/s]"
      ]
     },
     "metadata": {},
     "output_type": "display_data"
    },
    {
     "name": "stderr",
     "output_type": "stream",
     "text": [
      "/opt/conda/lib/python3.10/site-packages/torch/_tensor.py:1295: UserWarning: TypedStorage is deprecated. It will be removed in the future and UntypedStorage will be the only storage class. This should only matter to you if you are using storages directly.  To access UntypedStorage directly, use tensor.untyped_storage() instead of tensor.storage()\n",
      "  ret = func(*args, **kwargs)\n",
      "/opt/conda/lib/python3.10/site-packages/monai/data/__init__.py:127: UserWarning: TypedStorage is deprecated. It will be removed in the future and UntypedStorage will be the only storage class. This should only matter to you if you are using storages directly.  To access UntypedStorage directly, use tensor.untyped_storage() instead of tensor.storage()\n",
      "  if storage.is_cuda:\n",
      "/opt/conda/lib/python3.10/site-packages/monai/data/__init__.py:120: UserWarning: TypedStorage is deprecated. It will be removed in the future and UntypedStorage will be the only storage class. This should only matter to you if you are using storages directly.  To access UntypedStorage directly, use tensor.untyped_storage() instead of tensor.storage()\n",
      "  t = cls([], dtype=storage.dtype, device=storage.device)\n",
      "/opt/conda/lib/python3.10/site-packages/monai/data/__init__.py:120: UserWarning: TypedStorage is deprecated. It will be removed in the future and UntypedStorage will be the only storage class. This should only matter to you if you are using storages directly.  To access UntypedStorage directly, use tensor.untyped_storage() instead of tensor.storage()\n",
      "  t = cls([], dtype=storage.dtype, device=storage.device)\n"
     ]
    },
    {
     "data": {
      "application/vnd.jupyter.widget-view+json": {
       "model_id": "c0233ed1f0a34cd2ad6ab79eeab0b024",
       "version_major": 2,
       "version_minor": 0
      },
      "text/plain": [
       "Training: 0it [00:00, ?it/s]"
      ]
     },
     "metadata": {},
     "output_type": "display_data"
    },
    {
     "name": "stderr",
     "output_type": "stream",
     "text": [
      "/opt/conda/lib/python3.10/site-packages/torch/_tensor.py:1295: UserWarning: TypedStorage is deprecated. It will be removed in the future and UntypedStorage will be the only storage class. This should only matter to you if you are using storages directly.  To access UntypedStorage directly, use tensor.untyped_storage() instead of tensor.storage()\n",
      "  ret = func(*args, **kwargs)\n",
      "/opt/conda/lib/python3.10/site-packages/monai/data/__init__.py:127: UserWarning: TypedStorage is deprecated. It will be removed in the future and UntypedStorage will be the only storage class. This should only matter to you if you are using storages directly.  To access UntypedStorage directly, use tensor.untyped_storage() instead of tensor.storage()\n",
      "  if storage.is_cuda:\n",
      "/opt/conda/lib/python3.10/site-packages/monai/data/__init__.py:120: UserWarning: TypedStorage is deprecated. It will be removed in the future and UntypedStorage will be the only storage class. This should only matter to you if you are using storages directly.  To access UntypedStorage directly, use tensor.untyped_storage() instead of tensor.storage()\n",
      "  t = cls([], dtype=storage.dtype, device=storage.device)\n",
      "/opt/conda/lib/python3.10/site-packages/torch/_tensor.py:1295: UserWarning: TypedStorage is deprecated. It will be removed in the future and UntypedStorage will be the only storage class. This should only matter to you if you are using storages directly.  To access UntypedStorage directly, use tensor.untyped_storage() instead of tensor.storage()\n",
      "  ret = func(*args, **kwargs)\n",
      "/opt/conda/lib/python3.10/site-packages/monai/data/__init__.py:127: UserWarning: TypedStorage is deprecated. It will be removed in the future and UntypedStorage will be the only storage class. This should only matter to you if you are using storages directly.  To access UntypedStorage directly, use tensor.untyped_storage() instead of tensor.storage()\n",
      "  if storage.is_cuda:\n",
      "/opt/conda/lib/python3.10/site-packages/torch/_tensor.py:1295: UserWarning: TypedStorage is deprecated. It will be removed in the future and UntypedStorage will be the only storage class. This should only matter to you if you are using storages directly.  To access UntypedStorage directly, use tensor.untyped_storage() instead of tensor.storage()\n",
      "  ret = func(*args, **kwargs)\n",
      "/opt/conda/lib/python3.10/site-packages/monai/data/__init__.py:127: UserWarning: TypedStorage is deprecated. It will be removed in the future and UntypedStorage will be the only storage class. This should only matter to you if you are using storages directly.  To access UntypedStorage directly, use tensor.untyped_storage() instead of tensor.storage()\n",
      "  if storage.is_cuda:\n"
     ]
    },
    {
     "data": {
      "application/vnd.jupyter.widget-view+json": {
       "model_id": "",
       "version_major": 2,
       "version_minor": 0
      },
      "text/plain": [
       "Validation: 0it [00:00, ?it/s]"
      ]
     },
     "metadata": {},
     "output_type": "display_data"
    },
    {
     "name": "stderr",
     "output_type": "stream",
     "text": [
      "/opt/conda/lib/python3.10/site-packages/torch/_tensor.py:1295: UserWarning: TypedStorage is deprecated. It will be removed in the future and UntypedStorage will be the only storage class. This should only matter to you if you are using storages directly.  To access UntypedStorage directly, use tensor.untyped_storage() instead of tensor.storage()\n",
      "  ret = func(*args, **kwargs)\n",
      "/opt/conda/lib/python3.10/site-packages/monai/data/__init__.py:127: UserWarning: TypedStorage is deprecated. It will be removed in the future and UntypedStorage will be the only storage class. This should only matter to you if you are using storages directly.  To access UntypedStorage directly, use tensor.untyped_storage() instead of tensor.storage()\n",
      "  if storage.is_cuda:\n",
      "/opt/conda/lib/python3.10/site-packages/monai/data/__init__.py:127: UserWarning: TypedStorage is deprecated. It will be removed in the future and UntypedStorage will be the only storage class. This should only matter to you if you are using storages directly.  To access UntypedStorage directly, use tensor.untyped_storage() instead of tensor.storage()\n",
      "  if storage.is_cuda:\n",
      "/opt/conda/lib/python3.10/site-packages/torch/_tensor.py:1295: UserWarning: TypedStorage is deprecated. It will be removed in the future and UntypedStorage will be the only storage class. This should only matter to you if you are using storages directly.  To access UntypedStorage directly, use tensor.untyped_storage() instead of tensor.storage()\n",
      "  ret = func(*args, **kwargs)\n",
      "/opt/conda/lib/python3.10/site-packages/torch/_tensor.py:1295: UserWarning: TypedStorage is deprecated. It will be removed in the future and UntypedStorage will be the only storage class. This should only matter to you if you are using storages directly.  To access UntypedStorage directly, use tensor.untyped_storage() instead of tensor.storage()\n",
      "  ret = func(*args, **kwargs)\n",
      "/opt/conda/lib/python3.10/site-packages/monai/data/__init__.py:127: UserWarning: TypedStorage is deprecated. It will be removed in the future and UntypedStorage will be the only storage class. This should only matter to you if you are using storages directly.  To access UntypedStorage directly, use tensor.untyped_storage() instead of tensor.storage()\n",
      "  if storage.is_cuda:\n",
      "/opt/conda/lib/python3.10/site-packages/torch/_tensor.py:1295: UserWarning: TypedStorage is deprecated. It will be removed in the future and UntypedStorage will be the only storage class. This should only matter to you if you are using storages directly.  To access UntypedStorage directly, use tensor.untyped_storage() instead of tensor.storage()\n",
      "  ret = func(*args, **kwargs)\n",
      "/opt/conda/lib/python3.10/site-packages/monai/data/__init__.py:127: UserWarning: TypedStorage is deprecated. It will be removed in the future and UntypedStorage will be the only storage class. This should only matter to you if you are using storages directly.  To access UntypedStorage directly, use tensor.untyped_storage() instead of tensor.storage()\n",
      "  if storage.is_cuda:\n"
     ]
    },
    {
     "data": {
      "application/vnd.jupyter.widget-view+json": {
       "model_id": "",
       "version_major": 2,
       "version_minor": 0
      },
      "text/plain": [
       "Validation: 0it [00:00, ?it/s]"
      ]
     },
     "metadata": {},
     "output_type": "display_data"
    },
    {
     "name": "stderr",
     "output_type": "stream",
     "text": [
      "/opt/conda/lib/python3.10/site-packages/torch/_tensor.py:1295: UserWarning: TypedStorage is deprecated. It will be removed in the future and UntypedStorage will be the only storage class. This should only matter to you if you are using storages directly.  To access UntypedStorage directly, use tensor.untyped_storage() instead of tensor.storage()\n",
      "  ret = func(*args, **kwargs)\n",
      "/opt/conda/lib/python3.10/site-packages/monai/data/__init__.py:127: UserWarning: TypedStorage is deprecated. It will be removed in the future and UntypedStorage will be the only storage class. This should only matter to you if you are using storages directly.  To access UntypedStorage directly, use tensor.untyped_storage() instead of tensor.storage()\n",
      "  if storage.is_cuda:\n",
      "/opt/conda/lib/python3.10/site-packages/torch/_tensor.py:1295: UserWarning: TypedStorage is deprecated. It will be removed in the future and UntypedStorage will be the only storage class. This should only matter to you if you are using storages directly.  To access UntypedStorage directly, use tensor.untyped_storage() instead of tensor.storage()\n",
      "  ret = func(*args, **kwargs)\n",
      "/opt/conda/lib/python3.10/site-packages/monai/data/__init__.py:127: UserWarning: TypedStorage is deprecated. It will be removed in the future and UntypedStorage will be the only storage class. This should only matter to you if you are using storages directly.  To access UntypedStorage directly, use tensor.untyped_storage() instead of tensor.storage()\n",
      "  if storage.is_cuda:\n",
      "/opt/conda/lib/python3.10/site-packages/torch/_tensor.py:1295: UserWarning: TypedStorage is deprecated. It will be removed in the future and UntypedStorage will be the only storage class. This should only matter to you if you are using storages directly.  To access UntypedStorage directly, use tensor.untyped_storage() instead of tensor.storage()\n",
      "  ret = func(*args, **kwargs)\n",
      "/opt/conda/lib/python3.10/site-packages/monai/data/__init__.py:127: UserWarning: TypedStorage is deprecated. It will be removed in the future and UntypedStorage will be the only storage class. This should only matter to you if you are using storages directly.  To access UntypedStorage directly, use tensor.untyped_storage() instead of tensor.storage()\n",
      "  if storage.is_cuda:\n"
     ]
    },
    {
     "data": {
      "application/vnd.jupyter.widget-view+json": {
       "model_id": "",
       "version_major": 2,
       "version_minor": 0
      },
      "text/plain": [
       "Validation: 0it [00:00, ?it/s]"
      ]
     },
     "metadata": {},
     "output_type": "display_data"
    },
    {
     "name": "stderr",
     "output_type": "stream",
     "text": [
      "/opt/conda/lib/python3.10/site-packages/torch/_tensor.py:1295: UserWarning: TypedStorage is deprecated. It will be removed in the future and UntypedStorage will be the only storage class. This should only matter to you if you are using storages directly.  To access UntypedStorage directly, use tensor.untyped_storage() instead of tensor.storage()\n",
      "  ret = func(*args, **kwargs)\n",
      "/opt/conda/lib/python3.10/site-packages/monai/data/__init__.py:127: UserWarning: TypedStorage is deprecated. It will be removed in the future and UntypedStorage will be the only storage class. This should only matter to you if you are using storages directly.  To access UntypedStorage directly, use tensor.untyped_storage() instead of tensor.storage()\n",
      "  if storage.is_cuda:\n",
      "/opt/conda/lib/python3.10/site-packages/torch/_tensor.py:1295: UserWarning: TypedStorage is deprecated. It will be removed in the future and UntypedStorage will be the only storage class. This should only matter to you if you are using storages directly.  To access UntypedStorage directly, use tensor.untyped_storage() instead of tensor.storage()\n",
      "  ret = func(*args, **kwargs)\n",
      "/opt/conda/lib/python3.10/site-packages/monai/data/__init__.py:127: UserWarning: TypedStorage is deprecated. It will be removed in the future and UntypedStorage will be the only storage class. This should only matter to you if you are using storages directly.  To access UntypedStorage directly, use tensor.untyped_storage() instead of tensor.storage()\n",
      "  if storage.is_cuda:\n",
      "/opt/conda/lib/python3.10/site-packages/torch/_tensor.py:1295: UserWarning: TypedStorage is deprecated. It will be removed in the future and UntypedStorage will be the only storage class. This should only matter to you if you are using storages directly.  To access UntypedStorage directly, use tensor.untyped_storage() instead of tensor.storage()\n",
      "  ret = func(*args, **kwargs)\n",
      "/opt/conda/lib/python3.10/site-packages/monai/data/__init__.py:127: UserWarning: TypedStorage is deprecated. It will be removed in the future and UntypedStorage will be the only storage class. This should only matter to you if you are using storages directly.  To access UntypedStorage directly, use tensor.untyped_storage() instead of tensor.storage()\n",
      "  if storage.is_cuda:\n"
     ]
    },
    {
     "data": {
      "application/vnd.jupyter.widget-view+json": {
       "model_id": "",
       "version_major": 2,
       "version_minor": 0
      },
      "text/plain": [
       "Validation: 0it [00:00, ?it/s]"
      ]
     },
     "metadata": {},
     "output_type": "display_data"
    },
    {
     "name": "stderr",
     "output_type": "stream",
     "text": [
      "/opt/conda/lib/python3.10/site-packages/torch/_tensor.py:1295: UserWarning: TypedStorage is deprecated. It will be removed in the future and UntypedStorage will be the only storage class. This should only matter to you if you are using storages directly.  To access UntypedStorage directly, use tensor.untyped_storage() instead of tensor.storage()\n",
      "  ret = func(*args, **kwargs)\n",
      "/opt/conda/lib/python3.10/site-packages/monai/data/__init__.py:127: UserWarning: TypedStorage is deprecated. It will be removed in the future and UntypedStorage will be the only storage class. This should only matter to you if you are using storages directly.  To access UntypedStorage directly, use tensor.untyped_storage() instead of tensor.storage()\n",
      "  if storage.is_cuda:\n",
      "/opt/conda/lib/python3.10/site-packages/torch/_tensor.py:1295: UserWarning: TypedStorage is deprecated. It will be removed in the future and UntypedStorage will be the only storage class. This should only matter to you if you are using storages directly.  To access UntypedStorage directly, use tensor.untyped_storage() instead of tensor.storage()\n",
      "  ret = func(*args, **kwargs)\n",
      "/opt/conda/lib/python3.10/site-packages/monai/data/__init__.py:127: UserWarning: TypedStorage is deprecated. It will be removed in the future and UntypedStorage will be the only storage class. This should only matter to you if you are using storages directly.  To access UntypedStorage directly, use tensor.untyped_storage() instead of tensor.storage()\n",
      "  if storage.is_cuda:\n",
      "/opt/conda/lib/python3.10/site-packages/torch/_tensor.py:1295: UserWarning: TypedStorage is deprecated. It will be removed in the future and UntypedStorage will be the only storage class. This should only matter to you if you are using storages directly.  To access UntypedStorage directly, use tensor.untyped_storage() instead of tensor.storage()\n",
      "  ret = func(*args, **kwargs)\n",
      "/opt/conda/lib/python3.10/site-packages/monai/data/__init__.py:127: UserWarning: TypedStorage is deprecated. It will be removed in the future and UntypedStorage will be the only storage class. This should only matter to you if you are using storages directly.  To access UntypedStorage directly, use tensor.untyped_storage() instead of tensor.storage()\n",
      "  if storage.is_cuda:\n"
     ]
    },
    {
     "data": {
      "application/vnd.jupyter.widget-view+json": {
       "model_id": "",
       "version_major": 2,
       "version_minor": 0
      },
      "text/plain": [
       "Validation: 0it [00:00, ?it/s]"
      ]
     },
     "metadata": {},
     "output_type": "display_data"
    },
    {
     "name": "stderr",
     "output_type": "stream",
     "text": [
      "/opt/conda/lib/python3.10/site-packages/torch/_tensor.py:1295: UserWarning: TypedStorage is deprecated. It will be removed in the future and UntypedStorage will be the only storage class. This should only matter to you if you are using storages directly.  To access UntypedStorage directly, use tensor.untyped_storage() instead of tensor.storage()\n",
      "  ret = func(*args, **kwargs)\n",
      "/opt/conda/lib/python3.10/site-packages/monai/data/__init__.py:127: UserWarning: TypedStorage is deprecated. It will be removed in the future and UntypedStorage will be the only storage class. This should only matter to you if you are using storages directly.  To access UntypedStorage directly, use tensor.untyped_storage() instead of tensor.storage()\n",
      "  if storage.is_cuda:\n",
      "/opt/conda/lib/python3.10/site-packages/torch/_tensor.py:1295: UserWarning: TypedStorage is deprecated. It will be removed in the future and UntypedStorage will be the only storage class. This should only matter to you if you are using storages directly.  To access UntypedStorage directly, use tensor.untyped_storage() instead of tensor.storage()\n",
      "  ret = func(*args, **kwargs)\n",
      "/opt/conda/lib/python3.10/site-packages/monai/data/__init__.py:127: UserWarning: TypedStorage is deprecated. It will be removed in the future and UntypedStorage will be the only storage class. This should only matter to you if you are using storages directly.  To access UntypedStorage directly, use tensor.untyped_storage() instead of tensor.storage()\n",
      "  if storage.is_cuda:\n",
      "/opt/conda/lib/python3.10/site-packages/torch/_tensor.py:1295: UserWarning: TypedStorage is deprecated. It will be removed in the future and UntypedStorage will be the only storage class. This should only matter to you if you are using storages directly.  To access UntypedStorage directly, use tensor.untyped_storage() instead of tensor.storage()\n",
      "  ret = func(*args, **kwargs)\n",
      "/opt/conda/lib/python3.10/site-packages/monai/data/__init__.py:127: UserWarning: TypedStorage is deprecated. It will be removed in the future and UntypedStorage will be the only storage class. This should only matter to you if you are using storages directly.  To access UntypedStorage directly, use tensor.untyped_storage() instead of tensor.storage()\n",
      "  if storage.is_cuda:\n"
     ]
    },
    {
     "data": {
      "application/vnd.jupyter.widget-view+json": {
       "model_id": "",
       "version_major": 2,
       "version_minor": 0
      },
      "text/plain": [
       "Validation: 0it [00:00, ?it/s]"
      ]
     },
     "metadata": {},
     "output_type": "display_data"
    },
    {
     "name": "stderr",
     "output_type": "stream",
     "text": [
      "/opt/conda/lib/python3.10/site-packages/torch/_tensor.py:1295: UserWarning: TypedStorage is deprecated. It will be removed in the future and UntypedStorage will be the only storage class. This should only matter to you if you are using storages directly.  To access UntypedStorage directly, use tensor.untyped_storage() instead of tensor.storage()\n",
      "  ret = func(*args, **kwargs)\n",
      "/opt/conda/lib/python3.10/site-packages/monai/data/__init__.py:127: UserWarning: TypedStorage is deprecated. It will be removed in the future and UntypedStorage will be the only storage class. This should only matter to you if you are using storages directly.  To access UntypedStorage directly, use tensor.untyped_storage() instead of tensor.storage()\n",
      "  if storage.is_cuda:\n",
      "/opt/conda/lib/python3.10/site-packages/torch/_tensor.py:1295: UserWarning: TypedStorage is deprecated. It will be removed in the future and UntypedStorage will be the only storage class. This should only matter to you if you are using storages directly.  To access UntypedStorage directly, use tensor.untyped_storage() instead of tensor.storage()\n",
      "  ret = func(*args, **kwargs)\n",
      "/opt/conda/lib/python3.10/site-packages/monai/data/__init__.py:127: UserWarning: TypedStorage is deprecated. It will be removed in the future and UntypedStorage will be the only storage class. This should only matter to you if you are using storages directly.  To access UntypedStorage directly, use tensor.untyped_storage() instead of tensor.storage()\n",
      "  if storage.is_cuda:\n",
      "/opt/conda/lib/python3.10/site-packages/torch/_tensor.py:1295: UserWarning: TypedStorage is deprecated. It will be removed in the future and UntypedStorage will be the only storage class. This should only matter to you if you are using storages directly.  To access UntypedStorage directly, use tensor.untyped_storage() instead of tensor.storage()\n",
      "  ret = func(*args, **kwargs)\n",
      "/opt/conda/lib/python3.10/site-packages/monai/data/__init__.py:127: UserWarning: TypedStorage is deprecated. It will be removed in the future and UntypedStorage will be the only storage class. This should only matter to you if you are using storages directly.  To access UntypedStorage directly, use tensor.untyped_storage() instead of tensor.storage()\n",
      "  if storage.is_cuda:\n"
     ]
    },
    {
     "data": {
      "application/vnd.jupyter.widget-view+json": {
       "model_id": "",
       "version_major": 2,
       "version_minor": 0
      },
      "text/plain": [
       "Validation: 0it [00:00, ?it/s]"
      ]
     },
     "metadata": {},
     "output_type": "display_data"
    },
    {
     "name": "stderr",
     "output_type": "stream",
     "text": [
      "/opt/conda/lib/python3.10/site-packages/torch/_tensor.py:1295: UserWarning: TypedStorage is deprecated. It will be removed in the future and UntypedStorage will be the only storage class. This should only matter to you if you are using storages directly.  To access UntypedStorage directly, use tensor.untyped_storage() instead of tensor.storage()\n",
      "  ret = func(*args, **kwargs)\n",
      "/opt/conda/lib/python3.10/site-packages/monai/data/__init__.py:127: UserWarning: TypedStorage is deprecated. It will be removed in the future and UntypedStorage will be the only storage class. This should only matter to you if you are using storages directly.  To access UntypedStorage directly, use tensor.untyped_storage() instead of tensor.storage()\n",
      "  if storage.is_cuda:\n",
      "/opt/conda/lib/python3.10/site-packages/torch/_tensor.py:1295: UserWarning: TypedStorage is deprecated. It will be removed in the future and UntypedStorage will be the only storage class. This should only matter to you if you are using storages directly.  To access UntypedStorage directly, use tensor.untyped_storage() instead of tensor.storage()\n",
      "  ret = func(*args, **kwargs)\n",
      "/opt/conda/lib/python3.10/site-packages/monai/data/__init__.py:127: UserWarning: TypedStorage is deprecated. It will be removed in the future and UntypedStorage will be the only storage class. This should only matter to you if you are using storages directly.  To access UntypedStorage directly, use tensor.untyped_storage() instead of tensor.storage()\n",
      "  if storage.is_cuda:\n",
      "/opt/conda/lib/python3.10/site-packages/torch/_tensor.py:1295: UserWarning: TypedStorage is deprecated. It will be removed in the future and UntypedStorage will be the only storage class. This should only matter to you if you are using storages directly.  To access UntypedStorage directly, use tensor.untyped_storage() instead of tensor.storage()\n",
      "  ret = func(*args, **kwargs)\n",
      "/opt/conda/lib/python3.10/site-packages/monai/data/__init__.py:127: UserWarning: TypedStorage is deprecated. It will be removed in the future and UntypedStorage will be the only storage class. This should only matter to you if you are using storages directly.  To access UntypedStorage directly, use tensor.untyped_storage() instead of tensor.storage()\n",
      "  if storage.is_cuda:\n"
     ]
    },
    {
     "data": {
      "application/vnd.jupyter.widget-view+json": {
       "model_id": "",
       "version_major": 2,
       "version_minor": 0
      },
      "text/plain": [
       "Validation: 0it [00:00, ?it/s]"
      ]
     },
     "metadata": {},
     "output_type": "display_data"
    },
    {
     "name": "stderr",
     "output_type": "stream",
     "text": [
      "/opt/conda/lib/python3.10/site-packages/torch/_tensor.py:1295: UserWarning: TypedStorage is deprecated. It will be removed in the future and UntypedStorage will be the only storage class. This should only matter to you if you are using storages directly.  To access UntypedStorage directly, use tensor.untyped_storage() instead of tensor.storage()\n",
      "  ret = func(*args, **kwargs)\n",
      "/opt/conda/lib/python3.10/site-packages/monai/data/__init__.py:127: UserWarning: TypedStorage is deprecated. It will be removed in the future and UntypedStorage will be the only storage class. This should only matter to you if you are using storages directly.  To access UntypedStorage directly, use tensor.untyped_storage() instead of tensor.storage()\n",
      "  if storage.is_cuda:\n",
      "/opt/conda/lib/python3.10/site-packages/torch/_tensor.py:1295: UserWarning: TypedStorage is deprecated. It will be removed in the future and UntypedStorage will be the only storage class. This should only matter to you if you are using storages directly.  To access UntypedStorage directly, use tensor.untyped_storage() instead of tensor.storage()\n",
      "  ret = func(*args, **kwargs)\n",
      "/opt/conda/lib/python3.10/site-packages/monai/data/__init__.py:127: UserWarning: TypedStorage is deprecated. It will be removed in the future and UntypedStorage will be the only storage class. This should only matter to you if you are using storages directly.  To access UntypedStorage directly, use tensor.untyped_storage() instead of tensor.storage()\n",
      "  if storage.is_cuda:\n",
      "/opt/conda/lib/python3.10/site-packages/torch/_tensor.py:1295: UserWarning: TypedStorage is deprecated. It will be removed in the future and UntypedStorage will be the only storage class. This should only matter to you if you are using storages directly.  To access UntypedStorage directly, use tensor.untyped_storage() instead of tensor.storage()\n",
      "  ret = func(*args, **kwargs)\n",
      "/opt/conda/lib/python3.10/site-packages/monai/data/__init__.py:127: UserWarning: TypedStorage is deprecated. It will be removed in the future and UntypedStorage will be the only storage class. This should only matter to you if you are using storages directly.  To access UntypedStorage directly, use tensor.untyped_storage() instead of tensor.storage()\n",
      "  if storage.is_cuda:\n"
     ]
    },
    {
     "data": {
      "application/vnd.jupyter.widget-view+json": {
       "model_id": "",
       "version_major": 2,
       "version_minor": 0
      },
      "text/plain": [
       "Validation: 0it [00:00, ?it/s]"
      ]
     },
     "metadata": {},
     "output_type": "display_data"
    },
    {
     "name": "stderr",
     "output_type": "stream",
     "text": [
      "/opt/conda/lib/python3.10/site-packages/torch/_tensor.py:1295: UserWarning: TypedStorage is deprecated. It will be removed in the future and UntypedStorage will be the only storage class. This should only matter to you if you are using storages directly.  To access UntypedStorage directly, use tensor.untyped_storage() instead of tensor.storage()\n",
      "  ret = func(*args, **kwargs)\n",
      "/opt/conda/lib/python3.10/site-packages/monai/data/__init__.py:127: UserWarning: TypedStorage is deprecated. It will be removed in the future and UntypedStorage will be the only storage class. This should only matter to you if you are using storages directly.  To access UntypedStorage directly, use tensor.untyped_storage() instead of tensor.storage()\n",
      "  if storage.is_cuda:\n",
      "/opt/conda/lib/python3.10/site-packages/torch/_tensor.py:1295: UserWarning: TypedStorage is deprecated. It will be removed in the future and UntypedStorage will be the only storage class. This should only matter to you if you are using storages directly.  To access UntypedStorage directly, use tensor.untyped_storage() instead of tensor.storage()\n",
      "  ret = func(*args, **kwargs)\n",
      "/opt/conda/lib/python3.10/site-packages/monai/data/__init__.py:127: UserWarning: TypedStorage is deprecated. It will be removed in the future and UntypedStorage will be the only storage class. This should only matter to you if you are using storages directly.  To access UntypedStorage directly, use tensor.untyped_storage() instead of tensor.storage()\n",
      "  if storage.is_cuda:\n",
      "/opt/conda/lib/python3.10/site-packages/torch/_tensor.py:1295: UserWarning: TypedStorage is deprecated. It will be removed in the future and UntypedStorage will be the only storage class. This should only matter to you if you are using storages directly.  To access UntypedStorage directly, use tensor.untyped_storage() instead of tensor.storage()\n",
      "  ret = func(*args, **kwargs)\n",
      "/opt/conda/lib/python3.10/site-packages/monai/data/__init__.py:127: UserWarning: TypedStorage is deprecated. It will be removed in the future and UntypedStorage will be the only storage class. This should only matter to you if you are using storages directly.  To access UntypedStorage directly, use tensor.untyped_storage() instead of tensor.storage()\n",
      "  if storage.is_cuda:\n"
     ]
    },
    {
     "data": {
      "application/vnd.jupyter.widget-view+json": {
       "model_id": "",
       "version_major": 2,
       "version_minor": 0
      },
      "text/plain": [
       "Validation: 0it [00:00, ?it/s]"
      ]
     },
     "metadata": {},
     "output_type": "display_data"
    },
    {
     "name": "stderr",
     "output_type": "stream",
     "text": [
      "/opt/conda/lib/python3.10/site-packages/torch/_tensor.py:1295: UserWarning: TypedStorage is deprecated. It will be removed in the future and UntypedStorage will be the only storage class. This should only matter to you if you are using storages directly.  To access UntypedStorage directly, use tensor.untyped_storage() instead of tensor.storage()\n",
      "  ret = func(*args, **kwargs)\n",
      "/opt/conda/lib/python3.10/site-packages/monai/data/__init__.py:127: UserWarning: TypedStorage is deprecated. It will be removed in the future and UntypedStorage will be the only storage class. This should only matter to you if you are using storages directly.  To access UntypedStorage directly, use tensor.untyped_storage() instead of tensor.storage()\n",
      "  if storage.is_cuda:\n",
      "/opt/conda/lib/python3.10/site-packages/torch/_tensor.py:1295: UserWarning: TypedStorage is deprecated. It will be removed in the future and UntypedStorage will be the only storage class. This should only matter to you if you are using storages directly.  To access UntypedStorage directly, use tensor.untyped_storage() instead of tensor.storage()\n",
      "  ret = func(*args, **kwargs)\n",
      "/opt/conda/lib/python3.10/site-packages/monai/data/__init__.py:127: UserWarning: TypedStorage is deprecated. It will be removed in the future and UntypedStorage will be the only storage class. This should only matter to you if you are using storages directly.  To access UntypedStorage directly, use tensor.untyped_storage() instead of tensor.storage()\n",
      "  if storage.is_cuda:\n",
      "/opt/conda/lib/python3.10/site-packages/torch/_tensor.py:1295: UserWarning: TypedStorage is deprecated. It will be removed in the future and UntypedStorage will be the only storage class. This should only matter to you if you are using storages directly.  To access UntypedStorage directly, use tensor.untyped_storage() instead of tensor.storage()\n",
      "  ret = func(*args, **kwargs)\n",
      "/opt/conda/lib/python3.10/site-packages/monai/data/__init__.py:127: UserWarning: TypedStorage is deprecated. It will be removed in the future and UntypedStorage will be the only storage class. This should only matter to you if you are using storages directly.  To access UntypedStorage directly, use tensor.untyped_storage() instead of tensor.storage()\n",
      "  if storage.is_cuda:\n"
     ]
    },
    {
     "data": {
      "application/vnd.jupyter.widget-view+json": {
       "model_id": "",
       "version_major": 2,
       "version_minor": 0
      },
      "text/plain": [
       "Validation: 0it [00:00, ?it/s]"
      ]
     },
     "metadata": {},
     "output_type": "display_data"
    },
    {
     "name": "stderr",
     "output_type": "stream",
     "text": [
      "/opt/conda/lib/python3.10/site-packages/torch/_tensor.py:1295: UserWarning: TypedStorage is deprecated. It will be removed in the future and UntypedStorage will be the only storage class. This should only matter to you if you are using storages directly.  To access UntypedStorage directly, use tensor.untyped_storage() instead of tensor.storage()\n",
      "  ret = func(*args, **kwargs)\n",
      "/opt/conda/lib/python3.10/site-packages/monai/data/__init__.py:127: UserWarning: TypedStorage is deprecated. It will be removed in the future and UntypedStorage will be the only storage class. This should only matter to you if you are using storages directly.  To access UntypedStorage directly, use tensor.untyped_storage() instead of tensor.storage()\n",
      "  if storage.is_cuda:\n",
      "/opt/conda/lib/python3.10/site-packages/torch/_tensor.py:1295: UserWarning: TypedStorage is deprecated. It will be removed in the future and UntypedStorage will be the only storage class. This should only matter to you if you are using storages directly.  To access UntypedStorage directly, use tensor.untyped_storage() instead of tensor.storage()\n",
      "  ret = func(*args, **kwargs)\n",
      "/opt/conda/lib/python3.10/site-packages/monai/data/__init__.py:127: UserWarning: TypedStorage is deprecated. It will be removed in the future and UntypedStorage will be the only storage class. This should only matter to you if you are using storages directly.  To access UntypedStorage directly, use tensor.untyped_storage() instead of tensor.storage()\n",
      "  if storage.is_cuda:\n",
      "/opt/conda/lib/python3.10/site-packages/torch/_tensor.py:1295: UserWarning: TypedStorage is deprecated. It will be removed in the future and UntypedStorage will be the only storage class. This should only matter to you if you are using storages directly.  To access UntypedStorage directly, use tensor.untyped_storage() instead of tensor.storage()\n",
      "  ret = func(*args, **kwargs)\n",
      "/opt/conda/lib/python3.10/site-packages/monai/data/__init__.py:127: UserWarning: TypedStorage is deprecated. It will be removed in the future and UntypedStorage will be the only storage class. This should only matter to you if you are using storages directly.  To access UntypedStorage directly, use tensor.untyped_storage() instead of tensor.storage()\n",
      "  if storage.is_cuda:\n"
     ]
    },
    {
     "data": {
      "application/vnd.jupyter.widget-view+json": {
       "model_id": "",
       "version_major": 2,
       "version_minor": 0
      },
      "text/plain": [
       "Validation: 0it [00:00, ?it/s]"
      ]
     },
     "metadata": {},
     "output_type": "display_data"
    },
    {
     "name": "stderr",
     "output_type": "stream",
     "text": [
      "/opt/conda/lib/python3.10/site-packages/torch/_tensor.py:1295: UserWarning: TypedStorage is deprecated. It will be removed in the future and UntypedStorage will be the only storage class. This should only matter to you if you are using storages directly.  To access UntypedStorage directly, use tensor.untyped_storage() instead of tensor.storage()\n",
      "  ret = func(*args, **kwargs)\n",
      "/opt/conda/lib/python3.10/site-packages/monai/data/__init__.py:127: UserWarning: TypedStorage is deprecated. It will be removed in the future and UntypedStorage will be the only storage class. This should only matter to you if you are using storages directly.  To access UntypedStorage directly, use tensor.untyped_storage() instead of tensor.storage()\n",
      "  if storage.is_cuda:\n",
      "/opt/conda/lib/python3.10/site-packages/torch/_tensor.py:1295: UserWarning: TypedStorage is deprecated. It will be removed in the future and UntypedStorage will be the only storage class. This should only matter to you if you are using storages directly.  To access UntypedStorage directly, use tensor.untyped_storage() instead of tensor.storage()\n",
      "  ret = func(*args, **kwargs)\n",
      "/opt/conda/lib/python3.10/site-packages/monai/data/__init__.py:127: UserWarning: TypedStorage is deprecated. It will be removed in the future and UntypedStorage will be the only storage class. This should only matter to you if you are using storages directly.  To access UntypedStorage directly, use tensor.untyped_storage() instead of tensor.storage()\n",
      "  if storage.is_cuda:\n",
      "/opt/conda/lib/python3.10/site-packages/torch/_tensor.py:1295: UserWarning: TypedStorage is deprecated. It will be removed in the future and UntypedStorage will be the only storage class. This should only matter to you if you are using storages directly.  To access UntypedStorage directly, use tensor.untyped_storage() instead of tensor.storage()\n",
      "  ret = func(*args, **kwargs)\n",
      "/opt/conda/lib/python3.10/site-packages/monai/data/__init__.py:127: UserWarning: TypedStorage is deprecated. It will be removed in the future and UntypedStorage will be the only storage class. This should only matter to you if you are using storages directly.  To access UntypedStorage directly, use tensor.untyped_storage() instead of tensor.storage()\n",
      "  if storage.is_cuda:\n"
     ]
    },
    {
     "data": {
      "application/vnd.jupyter.widget-view+json": {
       "model_id": "",
       "version_major": 2,
       "version_minor": 0
      },
      "text/plain": [
       "Validation: 0it [00:00, ?it/s]"
      ]
     },
     "metadata": {},
     "output_type": "display_data"
    },
    {
     "name": "stderr",
     "output_type": "stream",
     "text": [
      "/opt/conda/lib/python3.10/site-packages/torch/_tensor.py:1295: UserWarning: TypedStorage is deprecated. It will be removed in the future and UntypedStorage will be the only storage class. This should only matter to you if you are using storages directly.  To access UntypedStorage directly, use tensor.untyped_storage() instead of tensor.storage()\n",
      "  ret = func(*args, **kwargs)\n",
      "/opt/conda/lib/python3.10/site-packages/monai/data/__init__.py:127: UserWarning: TypedStorage is deprecated. It will be removed in the future and UntypedStorage will be the only storage class. This should only matter to you if you are using storages directly.  To access UntypedStorage directly, use tensor.untyped_storage() instead of tensor.storage()\n",
      "  if storage.is_cuda:\n",
      "/opt/conda/lib/python3.10/site-packages/torch/_tensor.py:1295: UserWarning: TypedStorage is deprecated. It will be removed in the future and UntypedStorage will be the only storage class. This should only matter to you if you are using storages directly.  To access UntypedStorage directly, use tensor.untyped_storage() instead of tensor.storage()\n",
      "  ret = func(*args, **kwargs)\n",
      "/opt/conda/lib/python3.10/site-packages/monai/data/__init__.py:127: UserWarning: TypedStorage is deprecated. It will be removed in the future and UntypedStorage will be the only storage class. This should only matter to you if you are using storages directly.  To access UntypedStorage directly, use tensor.untyped_storage() instead of tensor.storage()\n",
      "  if storage.is_cuda:\n",
      "/opt/conda/lib/python3.10/site-packages/torch/_tensor.py:1295: UserWarning: TypedStorage is deprecated. It will be removed in the future and UntypedStorage will be the only storage class. This should only matter to you if you are using storages directly.  To access UntypedStorage directly, use tensor.untyped_storage() instead of tensor.storage()\n",
      "  ret = func(*args, **kwargs)\n",
      "/opt/conda/lib/python3.10/site-packages/monai/data/__init__.py:127: UserWarning: TypedStorage is deprecated. It will be removed in the future and UntypedStorage will be the only storage class. This should only matter to you if you are using storages directly.  To access UntypedStorage directly, use tensor.untyped_storage() instead of tensor.storage()\n",
      "  if storage.is_cuda:\n"
     ]
    },
    {
     "data": {
      "application/vnd.jupyter.widget-view+json": {
       "model_id": "",
       "version_major": 2,
       "version_minor": 0
      },
      "text/plain": [
       "Validation: 0it [00:00, ?it/s]"
      ]
     },
     "metadata": {},
     "output_type": "display_data"
    },
    {
     "name": "stderr",
     "output_type": "stream",
     "text": [
      "/opt/conda/lib/python3.10/site-packages/torch/_tensor.py:1295: UserWarning: TypedStorage is deprecated. It will be removed in the future and UntypedStorage will be the only storage class. This should only matter to you if you are using storages directly.  To access UntypedStorage directly, use tensor.untyped_storage() instead of tensor.storage()\n",
      "  ret = func(*args, **kwargs)\n",
      "/opt/conda/lib/python3.10/site-packages/monai/data/__init__.py:127: UserWarning: TypedStorage is deprecated. It will be removed in the future and UntypedStorage will be the only storage class. This should only matter to you if you are using storages directly.  To access UntypedStorage directly, use tensor.untyped_storage() instead of tensor.storage()\n",
      "  if storage.is_cuda:\n",
      "/opt/conda/lib/python3.10/site-packages/torch/_tensor.py:1295: UserWarning: TypedStorage is deprecated. It will be removed in the future and UntypedStorage will be the only storage class. This should only matter to you if you are using storages directly.  To access UntypedStorage directly, use tensor.untyped_storage() instead of tensor.storage()\n",
      "  ret = func(*args, **kwargs)\n",
      "/opt/conda/lib/python3.10/site-packages/monai/data/__init__.py:127: UserWarning: TypedStorage is deprecated. It will be removed in the future and UntypedStorage will be the only storage class. This should only matter to you if you are using storages directly.  To access UntypedStorage directly, use tensor.untyped_storage() instead of tensor.storage()\n",
      "  if storage.is_cuda:\n",
      "/opt/conda/lib/python3.10/site-packages/torch/_tensor.py:1295: UserWarning: TypedStorage is deprecated. It will be removed in the future and UntypedStorage will be the only storage class. This should only matter to you if you are using storages directly.  To access UntypedStorage directly, use tensor.untyped_storage() instead of tensor.storage()\n",
      "  ret = func(*args, **kwargs)\n",
      "/opt/conda/lib/python3.10/site-packages/monai/data/__init__.py:127: UserWarning: TypedStorage is deprecated. It will be removed in the future and UntypedStorage will be the only storage class. This should only matter to you if you are using storages directly.  To access UntypedStorage directly, use tensor.untyped_storage() instead of tensor.storage()\n",
      "  if storage.is_cuda:\n"
     ]
    },
    {
     "data": {
      "application/vnd.jupyter.widget-view+json": {
       "model_id": "",
       "version_major": 2,
       "version_minor": 0
      },
      "text/plain": [
       "Validation: 0it [00:00, ?it/s]"
      ]
     },
     "metadata": {},
     "output_type": "display_data"
    },
    {
     "name": "stderr",
     "output_type": "stream",
     "text": [
      "/opt/conda/lib/python3.10/site-packages/torch/_tensor.py:1295: UserWarning: TypedStorage is deprecated. It will be removed in the future and UntypedStorage will be the only storage class. This should only matter to you if you are using storages directly.  To access UntypedStorage directly, use tensor.untyped_storage() instead of tensor.storage()\n",
      "  ret = func(*args, **kwargs)\n",
      "/opt/conda/lib/python3.10/site-packages/monai/data/__init__.py:127: UserWarning: TypedStorage is deprecated. It will be removed in the future and UntypedStorage will be the only storage class. This should only matter to you if you are using storages directly.  To access UntypedStorage directly, use tensor.untyped_storage() instead of tensor.storage()\n",
      "  if storage.is_cuda:\n",
      "/opt/conda/lib/python3.10/site-packages/torch/_tensor.py:1295: UserWarning: TypedStorage is deprecated. It will be removed in the future and UntypedStorage will be the only storage class. This should only matter to you if you are using storages directly.  To access UntypedStorage directly, use tensor.untyped_storage() instead of tensor.storage()\n",
      "  ret = func(*args, **kwargs)\n",
      "/opt/conda/lib/python3.10/site-packages/monai/data/__init__.py:127: UserWarning: TypedStorage is deprecated. It will be removed in the future and UntypedStorage will be the only storage class. This should only matter to you if you are using storages directly.  To access UntypedStorage directly, use tensor.untyped_storage() instead of tensor.storage()\n",
      "  if storage.is_cuda:\n",
      "/opt/conda/lib/python3.10/site-packages/torch/_tensor.py:1295: UserWarning: TypedStorage is deprecated. It will be removed in the future and UntypedStorage will be the only storage class. This should only matter to you if you are using storages directly.  To access UntypedStorage directly, use tensor.untyped_storage() instead of tensor.storage()\n",
      "  ret = func(*args, **kwargs)\n",
      "/opt/conda/lib/python3.10/site-packages/monai/data/__init__.py:127: UserWarning: TypedStorage is deprecated. It will be removed in the future and UntypedStorage will be the only storage class. This should only matter to you if you are using storages directly.  To access UntypedStorage directly, use tensor.untyped_storage() instead of tensor.storage()\n",
      "  if storage.is_cuda:\n"
     ]
    },
    {
     "data": {
      "application/vnd.jupyter.widget-view+json": {
       "model_id": "",
       "version_major": 2,
       "version_minor": 0
      },
      "text/plain": [
       "Validation: 0it [00:00, ?it/s]"
      ]
     },
     "metadata": {},
     "output_type": "display_data"
    },
    {
     "name": "stderr",
     "output_type": "stream",
     "text": [
      "/opt/conda/lib/python3.10/site-packages/torch/_tensor.py:1295: UserWarning: TypedStorage is deprecated. It will be removed in the future and UntypedStorage will be the only storage class. This should only matter to you if you are using storages directly.  To access UntypedStorage directly, use tensor.untyped_storage() instead of tensor.storage()\n",
      "  ret = func(*args, **kwargs)\n",
      "/opt/conda/lib/python3.10/site-packages/monai/data/__init__.py:127: UserWarning: TypedStorage is deprecated. It will be removed in the future and UntypedStorage will be the only storage class. This should only matter to you if you are using storages directly.  To access UntypedStorage directly, use tensor.untyped_storage() instead of tensor.storage()\n",
      "  if storage.is_cuda:\n",
      "/opt/conda/lib/python3.10/site-packages/torch/_tensor.py:1295: UserWarning: TypedStorage is deprecated. It will be removed in the future and UntypedStorage will be the only storage class. This should only matter to you if you are using storages directly.  To access UntypedStorage directly, use tensor.untyped_storage() instead of tensor.storage()\n",
      "  ret = func(*args, **kwargs)\n",
      "/opt/conda/lib/python3.10/site-packages/monai/data/__init__.py:127: UserWarning: TypedStorage is deprecated. It will be removed in the future and UntypedStorage will be the only storage class. This should only matter to you if you are using storages directly.  To access UntypedStorage directly, use tensor.untyped_storage() instead of tensor.storage()\n",
      "  if storage.is_cuda:\n",
      "/opt/conda/lib/python3.10/site-packages/torch/_tensor.py:1295: UserWarning: TypedStorage is deprecated. It will be removed in the future and UntypedStorage will be the only storage class. This should only matter to you if you are using storages directly.  To access UntypedStorage directly, use tensor.untyped_storage() instead of tensor.storage()\n",
      "  ret = func(*args, **kwargs)\n",
      "/opt/conda/lib/python3.10/site-packages/monai/data/__init__.py:127: UserWarning: TypedStorage is deprecated. It will be removed in the future and UntypedStorage will be the only storage class. This should only matter to you if you are using storages directly.  To access UntypedStorage directly, use tensor.untyped_storage() instead of tensor.storage()\n",
      "  if storage.is_cuda:\n"
     ]
    },
    {
     "data": {
      "application/vnd.jupyter.widget-view+json": {
       "model_id": "",
       "version_major": 2,
       "version_minor": 0
      },
      "text/plain": [
       "Validation: 0it [00:00, ?it/s]"
      ]
     },
     "metadata": {},
     "output_type": "display_data"
    },
    {
     "name": "stderr",
     "output_type": "stream",
     "text": [
      "/opt/conda/lib/python3.10/site-packages/torch/_tensor.py:1295: UserWarning: TypedStorage is deprecated. It will be removed in the future and UntypedStorage will be the only storage class. This should only matter to you if you are using storages directly.  To access UntypedStorage directly, use tensor.untyped_storage() instead of tensor.storage()\n",
      "  ret = func(*args, **kwargs)\n",
      "/opt/conda/lib/python3.10/site-packages/monai/data/__init__.py:127: UserWarning: TypedStorage is deprecated. It will be removed in the future and UntypedStorage will be the only storage class. This should only matter to you if you are using storages directly.  To access UntypedStorage directly, use tensor.untyped_storage() instead of tensor.storage()\n",
      "  if storage.is_cuda:\n",
      "/opt/conda/lib/python3.10/site-packages/torch/_tensor.py:1295: UserWarning: TypedStorage is deprecated. It will be removed in the future and UntypedStorage will be the only storage class. This should only matter to you if you are using storages directly.  To access UntypedStorage directly, use tensor.untyped_storage() instead of tensor.storage()\n",
      "  ret = func(*args, **kwargs)\n",
      "/opt/conda/lib/python3.10/site-packages/monai/data/__init__.py:127: UserWarning: TypedStorage is deprecated. It will be removed in the future and UntypedStorage will be the only storage class. This should only matter to you if you are using storages directly.  To access UntypedStorage directly, use tensor.untyped_storage() instead of tensor.storage()\n",
      "  if storage.is_cuda:\n",
      "/opt/conda/lib/python3.10/site-packages/torch/_tensor.py:1295: UserWarning: TypedStorage is deprecated. It will be removed in the future and UntypedStorage will be the only storage class. This should only matter to you if you are using storages directly.  To access UntypedStorage directly, use tensor.untyped_storage() instead of tensor.storage()\n",
      "  ret = func(*args, **kwargs)\n",
      "/opt/conda/lib/python3.10/site-packages/monai/data/__init__.py:127: UserWarning: TypedStorage is deprecated. It will be removed in the future and UntypedStorage will be the only storage class. This should only matter to you if you are using storages directly.  To access UntypedStorage directly, use tensor.untyped_storage() instead of tensor.storage()\n",
      "  if storage.is_cuda:\n"
     ]
    },
    {
     "data": {
      "application/vnd.jupyter.widget-view+json": {
       "model_id": "",
       "version_major": 2,
       "version_minor": 0
      },
      "text/plain": [
       "Validation: 0it [00:00, ?it/s]"
      ]
     },
     "metadata": {},
     "output_type": "display_data"
    },
    {
     "name": "stderr",
     "output_type": "stream",
     "text": [
      "/opt/conda/lib/python3.10/site-packages/torch/_tensor.py:1295: UserWarning: TypedStorage is deprecated. It will be removed in the future and UntypedStorage will be the only storage class. This should only matter to you if you are using storages directly.  To access UntypedStorage directly, use tensor.untyped_storage() instead of tensor.storage()\n",
      "  ret = func(*args, **kwargs)\n",
      "/opt/conda/lib/python3.10/site-packages/monai/data/__init__.py:127: UserWarning: TypedStorage is deprecated. It will be removed in the future and UntypedStorage will be the only storage class. This should only matter to you if you are using storages directly.  To access UntypedStorage directly, use tensor.untyped_storage() instead of tensor.storage()\n",
      "  if storage.is_cuda:\n",
      "/opt/conda/lib/python3.10/site-packages/torch/_tensor.py:1295: UserWarning: TypedStorage is deprecated. It will be removed in the future and UntypedStorage will be the only storage class. This should only matter to you if you are using storages directly.  To access UntypedStorage directly, use tensor.untyped_storage() instead of tensor.storage()\n",
      "  ret = func(*args, **kwargs)\n",
      "/opt/conda/lib/python3.10/site-packages/monai/data/__init__.py:127: UserWarning: TypedStorage is deprecated. It will be removed in the future and UntypedStorage will be the only storage class. This should only matter to you if you are using storages directly.  To access UntypedStorage directly, use tensor.untyped_storage() instead of tensor.storage()\n",
      "  if storage.is_cuda:\n",
      "/opt/conda/lib/python3.10/site-packages/torch/_tensor.py:1295: UserWarning: TypedStorage is deprecated. It will be removed in the future and UntypedStorage will be the only storage class. This should only matter to you if you are using storages directly.  To access UntypedStorage directly, use tensor.untyped_storage() instead of tensor.storage()\n",
      "  ret = func(*args, **kwargs)\n",
      "/opt/conda/lib/python3.10/site-packages/monai/data/__init__.py:127: UserWarning: TypedStorage is deprecated. It will be removed in the future and UntypedStorage will be the only storage class. This should only matter to you if you are using storages directly.  To access UntypedStorage directly, use tensor.untyped_storage() instead of tensor.storage()\n",
      "  if storage.is_cuda:\n"
     ]
    },
    {
     "data": {
      "application/vnd.jupyter.widget-view+json": {
       "model_id": "",
       "version_major": 2,
       "version_minor": 0
      },
      "text/plain": [
       "Validation: 0it [00:00, ?it/s]"
      ]
     },
     "metadata": {},
     "output_type": "display_data"
    },
    {
     "name": "stderr",
     "output_type": "stream",
     "text": [
      "/opt/conda/lib/python3.10/site-packages/torch/_tensor.py:1295: UserWarning: TypedStorage is deprecated. It will be removed in the future and UntypedStorage will be the only storage class. This should only matter to you if you are using storages directly.  To access UntypedStorage directly, use tensor.untyped_storage() instead of tensor.storage()\n",
      "  ret = func(*args, **kwargs)\n",
      "/opt/conda/lib/python3.10/site-packages/monai/data/__init__.py:127: UserWarning: TypedStorage is deprecated. It will be removed in the future and UntypedStorage will be the only storage class. This should only matter to you if you are using storages directly.  To access UntypedStorage directly, use tensor.untyped_storage() instead of tensor.storage()\n",
      "  if storage.is_cuda:\n",
      "/opt/conda/lib/python3.10/site-packages/torch/_tensor.py:1295: UserWarning: TypedStorage is deprecated. It will be removed in the future and UntypedStorage will be the only storage class. This should only matter to you if you are using storages directly.  To access UntypedStorage directly, use tensor.untyped_storage() instead of tensor.storage()\n",
      "  ret = func(*args, **kwargs)\n",
      "/opt/conda/lib/python3.10/site-packages/monai/data/__init__.py:127: UserWarning: TypedStorage is deprecated. It will be removed in the future and UntypedStorage will be the only storage class. This should only matter to you if you are using storages directly.  To access UntypedStorage directly, use tensor.untyped_storage() instead of tensor.storage()\n",
      "  if storage.is_cuda:\n",
      "/opt/conda/lib/python3.10/site-packages/torch/_tensor.py:1295: UserWarning: TypedStorage is deprecated. It will be removed in the future and UntypedStorage will be the only storage class. This should only matter to you if you are using storages directly.  To access UntypedStorage directly, use tensor.untyped_storage() instead of tensor.storage()\n",
      "  ret = func(*args, **kwargs)\n",
      "/opt/conda/lib/python3.10/site-packages/monai/data/__init__.py:127: UserWarning: TypedStorage is deprecated. It will be removed in the future and UntypedStorage will be the only storage class. This should only matter to you if you are using storages directly.  To access UntypedStorage directly, use tensor.untyped_storage() instead of tensor.storage()\n",
      "  if storage.is_cuda:\n"
     ]
    },
    {
     "data": {
      "application/vnd.jupyter.widget-view+json": {
       "model_id": "",
       "version_major": 2,
       "version_minor": 0
      },
      "text/plain": [
       "Validation: 0it [00:00, ?it/s]"
      ]
     },
     "metadata": {},
     "output_type": "display_data"
    },
    {
     "name": "stderr",
     "output_type": "stream",
     "text": [
      "/opt/conda/lib/python3.10/site-packages/torch/_tensor.py:1295: UserWarning: TypedStorage is deprecated. It will be removed in the future and UntypedStorage will be the only storage class. This should only matter to you if you are using storages directly.  To access UntypedStorage directly, use tensor.untyped_storage() instead of tensor.storage()\n",
      "  ret = func(*args, **kwargs)\n",
      "/opt/conda/lib/python3.10/site-packages/monai/data/__init__.py:127: UserWarning: TypedStorage is deprecated. It will be removed in the future and UntypedStorage will be the only storage class. This should only matter to you if you are using storages directly.  To access UntypedStorage directly, use tensor.untyped_storage() instead of tensor.storage()\n",
      "  if storage.is_cuda:\n",
      "/opt/conda/lib/python3.10/site-packages/torch/_tensor.py:1295: UserWarning: TypedStorage is deprecated. It will be removed in the future and UntypedStorage will be the only storage class. This should only matter to you if you are using storages directly.  To access UntypedStorage directly, use tensor.untyped_storage() instead of tensor.storage()\n",
      "  ret = func(*args, **kwargs)\n",
      "/opt/conda/lib/python3.10/site-packages/monai/data/__init__.py:127: UserWarning: TypedStorage is deprecated. It will be removed in the future and UntypedStorage will be the only storage class. This should only matter to you if you are using storages directly.  To access UntypedStorage directly, use tensor.untyped_storage() instead of tensor.storage()\n",
      "  if storage.is_cuda:\n",
      "/opt/conda/lib/python3.10/site-packages/torch/_tensor.py:1295: UserWarning: TypedStorage is deprecated. It will be removed in the future and UntypedStorage will be the only storage class. This should only matter to you if you are using storages directly.  To access UntypedStorage directly, use tensor.untyped_storage() instead of tensor.storage()\n",
      "  ret = func(*args, **kwargs)\n",
      "/opt/conda/lib/python3.10/site-packages/monai/data/__init__.py:127: UserWarning: TypedStorage is deprecated. It will be removed in the future and UntypedStorage will be the only storage class. This should only matter to you if you are using storages directly.  To access UntypedStorage directly, use tensor.untyped_storage() instead of tensor.storage()\n",
      "  if storage.is_cuda:\n"
     ]
    },
    {
     "data": {
      "application/vnd.jupyter.widget-view+json": {
       "model_id": "",
       "version_major": 2,
       "version_minor": 0
      },
      "text/plain": [
       "Validation: 0it [00:00, ?it/s]"
      ]
     },
     "metadata": {},
     "output_type": "display_data"
    },
    {
     "name": "stderr",
     "output_type": "stream",
     "text": [
      "/opt/conda/lib/python3.10/site-packages/torch/_tensor.py:1295: UserWarning: TypedStorage is deprecated. It will be removed in the future and UntypedStorage will be the only storage class. This should only matter to you if you are using storages directly.  To access UntypedStorage directly, use tensor.untyped_storage() instead of tensor.storage()\n",
      "  ret = func(*args, **kwargs)\n",
      "/opt/conda/lib/python3.10/site-packages/monai/data/__init__.py:127: UserWarning: TypedStorage is deprecated. It will be removed in the future and UntypedStorage will be the only storage class. This should only matter to you if you are using storages directly.  To access UntypedStorage directly, use tensor.untyped_storage() instead of tensor.storage()\n",
      "  if storage.is_cuda:\n",
      "/opt/conda/lib/python3.10/site-packages/torch/_tensor.py:1295: UserWarning: TypedStorage is deprecated. It will be removed in the future and UntypedStorage will be the only storage class. This should only matter to you if you are using storages directly.  To access UntypedStorage directly, use tensor.untyped_storage() instead of tensor.storage()\n",
      "  ret = func(*args, **kwargs)\n",
      "/opt/conda/lib/python3.10/site-packages/monai/data/__init__.py:127: UserWarning: TypedStorage is deprecated. It will be removed in the future and UntypedStorage will be the only storage class. This should only matter to you if you are using storages directly.  To access UntypedStorage directly, use tensor.untyped_storage() instead of tensor.storage()\n",
      "  if storage.is_cuda:\n",
      "/opt/conda/lib/python3.10/site-packages/torch/_tensor.py:1295: UserWarning: TypedStorage is deprecated. It will be removed in the future and UntypedStorage will be the only storage class. This should only matter to you if you are using storages directly.  To access UntypedStorage directly, use tensor.untyped_storage() instead of tensor.storage()\n",
      "  ret = func(*args, **kwargs)\n",
      "/opt/conda/lib/python3.10/site-packages/monai/data/__init__.py:127: UserWarning: TypedStorage is deprecated. It will be removed in the future and UntypedStorage will be the only storage class. This should only matter to you if you are using storages directly.  To access UntypedStorage directly, use tensor.untyped_storage() instead of tensor.storage()\n",
      "  if storage.is_cuda:\n"
     ]
    },
    {
     "data": {
      "application/vnd.jupyter.widget-view+json": {
       "model_id": "",
       "version_major": 2,
       "version_minor": 0
      },
      "text/plain": [
       "Validation: 0it [00:00, ?it/s]"
      ]
     },
     "metadata": {},
     "output_type": "display_data"
    },
    {
     "name": "stderr",
     "output_type": "stream",
     "text": [
      "/opt/conda/lib/python3.10/site-packages/torch/_tensor.py:1295: UserWarning: TypedStorage is deprecated. It will be removed in the future and UntypedStorage will be the only storage class. This should only matter to you if you are using storages directly.  To access UntypedStorage directly, use tensor.untyped_storage() instead of tensor.storage()\n",
      "  ret = func(*args, **kwargs)\n",
      "/opt/conda/lib/python3.10/site-packages/monai/data/__init__.py:127: UserWarning: TypedStorage is deprecated. It will be removed in the future and UntypedStorage will be the only storage class. This should only matter to you if you are using storages directly.  To access UntypedStorage directly, use tensor.untyped_storage() instead of tensor.storage()\n",
      "  if storage.is_cuda:\n",
      "/opt/conda/lib/python3.10/site-packages/torch/_tensor.py:1295: UserWarning: TypedStorage is deprecated. It will be removed in the future and UntypedStorage will be the only storage class. This should only matter to you if you are using storages directly.  To access UntypedStorage directly, use tensor.untyped_storage() instead of tensor.storage()\n",
      "  ret = func(*args, **kwargs)\n",
      "/opt/conda/lib/python3.10/site-packages/monai/data/__init__.py:127: UserWarning: TypedStorage is deprecated. It will be removed in the future and UntypedStorage will be the only storage class. This should only matter to you if you are using storages directly.  To access UntypedStorage directly, use tensor.untyped_storage() instead of tensor.storage()\n",
      "  if storage.is_cuda:\n",
      "/opt/conda/lib/python3.10/site-packages/torch/_tensor.py:1295: UserWarning: TypedStorage is deprecated. It will be removed in the future and UntypedStorage will be the only storage class. This should only matter to you if you are using storages directly.  To access UntypedStorage directly, use tensor.untyped_storage() instead of tensor.storage()\n",
      "  ret = func(*args, **kwargs)\n",
      "/opt/conda/lib/python3.10/site-packages/monai/data/__init__.py:127: UserWarning: TypedStorage is deprecated. It will be removed in the future and UntypedStorage will be the only storage class. This should only matter to you if you are using storages directly.  To access UntypedStorage directly, use tensor.untyped_storage() instead of tensor.storage()\n",
      "  if storage.is_cuda:\n"
     ]
    },
    {
     "data": {
      "application/vnd.jupyter.widget-view+json": {
       "model_id": "",
       "version_major": 2,
       "version_minor": 0
      },
      "text/plain": [
       "Validation: 0it [00:00, ?it/s]"
      ]
     },
     "metadata": {},
     "output_type": "display_data"
    },
    {
     "name": "stderr",
     "output_type": "stream",
     "text": [
      "/opt/conda/lib/python3.10/site-packages/torch/_tensor.py:1295: UserWarning: TypedStorage is deprecated. It will be removed in the future and UntypedStorage will be the only storage class. This should only matter to you if you are using storages directly.  To access UntypedStorage directly, use tensor.untyped_storage() instead of tensor.storage()\n",
      "  ret = func(*args, **kwargs)\n",
      "/opt/conda/lib/python3.10/site-packages/monai/data/__init__.py:127: UserWarning: TypedStorage is deprecated. It will be removed in the future and UntypedStorage will be the only storage class. This should only matter to you if you are using storages directly.  To access UntypedStorage directly, use tensor.untyped_storage() instead of tensor.storage()\n",
      "  if storage.is_cuda:\n",
      "/opt/conda/lib/python3.10/site-packages/torch/_tensor.py:1295: UserWarning: TypedStorage is deprecated. It will be removed in the future and UntypedStorage will be the only storage class. This should only matter to you if you are using storages directly.  To access UntypedStorage directly, use tensor.untyped_storage() instead of tensor.storage()\n",
      "  ret = func(*args, **kwargs)\n",
      "/opt/conda/lib/python3.10/site-packages/monai/data/__init__.py:127: UserWarning: TypedStorage is deprecated. It will be removed in the future and UntypedStorage will be the only storage class. This should only matter to you if you are using storages directly.  To access UntypedStorage directly, use tensor.untyped_storage() instead of tensor.storage()\n",
      "  if storage.is_cuda:\n",
      "/opt/conda/lib/python3.10/site-packages/torch/_tensor.py:1295: UserWarning: TypedStorage is deprecated. It will be removed in the future and UntypedStorage will be the only storage class. This should only matter to you if you are using storages directly.  To access UntypedStorage directly, use tensor.untyped_storage() instead of tensor.storage()\n",
      "  ret = func(*args, **kwargs)\n",
      "/opt/conda/lib/python3.10/site-packages/monai/data/__init__.py:127: UserWarning: TypedStorage is deprecated. It will be removed in the future and UntypedStorage will be the only storage class. This should only matter to you if you are using storages directly.  To access UntypedStorage directly, use tensor.untyped_storage() instead of tensor.storage()\n",
      "  if storage.is_cuda:\n"
     ]
    },
    {
     "data": {
      "application/vnd.jupyter.widget-view+json": {
       "model_id": "",
       "version_major": 2,
       "version_minor": 0
      },
      "text/plain": [
       "Validation: 0it [00:00, ?it/s]"
      ]
     },
     "metadata": {},
     "output_type": "display_data"
    },
    {
     "name": "stderr",
     "output_type": "stream",
     "text": [
      "/opt/conda/lib/python3.10/site-packages/torch/_tensor.py:1295: UserWarning: TypedStorage is deprecated. It will be removed in the future and UntypedStorage will be the only storage class. This should only matter to you if you are using storages directly.  To access UntypedStorage directly, use tensor.untyped_storage() instead of tensor.storage()\n",
      "  ret = func(*args, **kwargs)\n",
      "/opt/conda/lib/python3.10/site-packages/monai/data/__init__.py:127: UserWarning: TypedStorage is deprecated. It will be removed in the future and UntypedStorage will be the only storage class. This should only matter to you if you are using storages directly.  To access UntypedStorage directly, use tensor.untyped_storage() instead of tensor.storage()\n",
      "  if storage.is_cuda:\n",
      "/opt/conda/lib/python3.10/site-packages/torch/_tensor.py:1295: UserWarning: TypedStorage is deprecated. It will be removed in the future and UntypedStorage will be the only storage class. This should only matter to you if you are using storages directly.  To access UntypedStorage directly, use tensor.untyped_storage() instead of tensor.storage()\n",
      "  ret = func(*args, **kwargs)\n",
      "/opt/conda/lib/python3.10/site-packages/monai/data/__init__.py:127: UserWarning: TypedStorage is deprecated. It will be removed in the future and UntypedStorage will be the only storage class. This should only matter to you if you are using storages directly.  To access UntypedStorage directly, use tensor.untyped_storage() instead of tensor.storage()\n",
      "  if storage.is_cuda:\n"
     ]
    }
   ],
   "source": [
    "module, trainer = train()"
   ]
  },
  {
   "cell_type": "code",
   "execution_count": null,
   "metadata": {
    "execution": {
     "iopub.execute_input": "2023-05-02T06:44:17.139959Z",
     "iopub.status.busy": "2023-05-02T06:44:17.13962Z",
     "iopub.status.idle": "2023-05-02T06:44:17.915008Z",
     "shell.execute_reply": "2023-05-02T06:44:17.914014Z",
     "shell.execute_reply.started": "2023-05-02T06:44:17.139915Z"
    }
   },
   "outputs": [],
   "source": [
    "# From https://www.kaggle.com/code/jirkaborovec?scriptVersionId=93358967&cellId=22\n",
    "metrics = pd.read_csv(f\"{trainer.logger.log_dir}/metrics.csv\")\n",
    "metrics = metrics[[\"epoch\", \"train_loss\", \"val_loss\", \"val_dice\", \"val_fbeta\"]]\n",
    "metrics.set_index(\"epoch\", inplace=True)\n",
    "\n",
    "sns.relplot(data=metrics, kind=\"line\", height=5, aspect=1.5)\n",
    "plt.grid()"
   ]
  },
  {
   "cell_type": "markdown",
   "metadata": {},
   "source": [
    "## Visualize"
   ]
  },
  {
   "cell_type": "code",
   "execution_count": null,
   "metadata": {
    "execution": {
     "iopub.execute_input": "2023-05-02T06:44:25.987863Z",
     "iopub.status.busy": "2023-05-02T06:44:25.986353Z",
     "iopub.status.idle": "2023-05-02T06:44:50.505712Z",
     "shell.execute_reply": "2023-05-02T06:44:50.504136Z",
     "shell.execute_reply.started": "2023-05-02T06:44:25.987806Z"
    }
   },
   "outputs": [],
   "source": [
    "data_module = VesuvisDataModule(\n",
    "    batch_size=BATCH_SIZE,\n",
    "    data_csv_path=TEST_DATA_CSV_PATH,\n",
    "    intensity_transform=INTENSITY_TRANSFORM,\n",
    "    num_workers=NUM_WORKERS,\n",
    "    num_samples=NUM_SAMPLES,\n",
    "    rand_transforms=RAND_TRANSFORMS,\n",
    "    patch_size=PATCH_SIZE,\n",
    "    val_fragment_id=VAL_FRAGMENT_ID,\n",
    ")\n",
    "data_module.setup(stage=\"predict\")\n",
    "\n",
    "dataloaders = {\n",
    "    \"predict\": data_module.predict_dataloader(),\n",
    "}\n",
    "\n",
    "visualize_dataloaders(dataloaders, train=False)"
   ]
  },
  {
   "cell_type": "markdown",
   "metadata": {},
   "source": [
    "# Predict"
   ]
  },
  {
   "cell_type": "code",
   "execution_count": null,
   "metadata": {
    "execution": {
     "iopub.execute_input": "2023-05-02T06:44:50.509299Z",
     "iopub.status.busy": "2023-05-02T06:44:50.508343Z",
     "iopub.status.idle": "2023-05-02T06:44:50.520566Z",
     "shell.execute_reply": "2023-05-02T06:44:50.51919Z",
     "shell.execute_reply.started": "2023-05-02T06:44:50.509241Z"
    }
   },
   "outputs": [],
   "source": [
    "def predict(\n",
    "    module,\n",
    "    accelerator=ACCELERATOR,\n",
    "    batch_size=BATCH_SIZE,\n",
    "    data_csv_path=TEST_DATA_CSV_PATH,\n",
    "    devices=DEVICES,\n",
    "    intensity_transform=INTENSITY_TRANSFORM,\n",
    "    num_workers=NUM_WORKERS,\n",
    "    num_samples=NUM_SAMPLES,\n",
    "    patch_size=PATCH_SIZE,\n",
    "    precision=PRECISION,\n",
    "    rand_transforms=RAND_TRANSFORMS,\n",
    "    seed=SEED,\n",
    "    val_fragment_id=VAL_FRAGMENT_ID,\n",
    "):\n",
    "    monai.utils.set_determinism(seed)\n",
    "    pl.seed_everything(seed, workers=True)\n",
    "\n",
    "    data_module = VesuvisDataModule(\n",
    "        batch_size=batch_size,\n",
    "        data_csv_path=data_csv_path,\n",
    "        intensity_transform=intensity_transform,\n",
    "        num_workers=num_workers,\n",
    "        num_samples=num_samples,\n",
    "        patch_size=patch_size,\n",
    "        rand_transforms=rand_transforms,\n",
    "        val_fragment_id=val_fragment_id,\n",
    "    )\n",
    "\n",
    "    trainer = pl.Trainer(\n",
    "        accelerator=accelerator,\n",
    "        devices=devices,\n",
    "        precision=precision,\n",
    "    )\n",
    "\n",
    "    predictions = trainer.predict(module, datamodule=data_module)\n",
    "\n",
    "    return predictions"
   ]
  },
  {
   "cell_type": "code",
   "execution_count": null,
   "metadata": {
    "execution": {
     "iopub.execute_input": "2023-05-02T06:44:50.52322Z",
     "iopub.status.busy": "2023-05-02T06:44:50.522709Z",
     "iopub.status.idle": "2023-05-02T06:45:57.973686Z",
     "shell.execute_reply": "2023-05-02T06:45:57.972451Z",
     "shell.execute_reply.started": "2023-05-02T06:44:50.523172Z"
    }
   },
   "outputs": [],
   "source": [
    "predictions = predict(module)"
   ]
  },
  {
   "cell_type": "markdown",
   "metadata": {},
   "source": [
    "# Submission"
   ]
  },
  {
   "cell_type": "code",
   "execution_count": null,
   "metadata": {
    "execution": {
     "iopub.execute_input": "2023-05-02T06:45:57.976677Z",
     "iopub.status.busy": "2023-05-02T06:45:57.976243Z",
     "iopub.status.idle": "2023-05-02T06:45:57.984866Z",
     "shell.execute_reply": "2023-05-02T06:45:57.983724Z",
     "shell.execute_reply.started": "2023-05-02T06:45:57.97663Z"
    }
   },
   "outputs": [],
   "source": [
    "def plot_image(image, title):\n",
    "    fig = plt.figure()\n",
    "    plt.title(title)\n",
    "    plt.imshow(image, cmap=\"gray\")\n",
    "    \n",
    "# ref.: https://www.kaggle.com/stainsby/fast-tested-rle\n",
    "def rle(img):\n",
    "    '''\n",
    "    img: numpy array, 1 - mask, 0 - background\n",
    "    Returns run length as string formated\n",
    "    '''\n",
    "    pixels = img.flatten()\n",
    "    # pixels = (pixels >= thr).astype(int)\n",
    "    \n",
    "    pixels = np.concatenate([[0], pixels, [0]])\n",
    "    runs = np.where(pixels[1:] != pixels[:-1])[0] + 1\n",
    "    runs[1::2] -= runs[::2]\n",
    "    return ' '.join(str(x) for x in runs)\n"
   ]
  },
  {
   "cell_type": "code",
   "execution_count": null,
   "metadata": {
    "execution": {
     "iopub.execute_input": "2023-05-02T06:52:30.067357Z",
     "iopub.status.busy": "2023-05-02T06:52:30.066352Z",
     "iopub.status.idle": "2023-05-02T06:52:55.174041Z",
     "shell.execute_reply": "2023-05-02T06:52:55.172938Z",
     "shell.execute_reply.started": "2023-05-02T06:52:30.067315Z"
    }
   },
   "outputs": [],
   "source": [
    "submission_df = pd.read_csv(COMPETITION_DATA_DIR / \"sample_submission.csv\")\n",
    "\n",
    "predictions_rle = []\n",
    "for mask_png_path, prediction in zip(test_df[\"mask_png\"].values, predictions):\n",
    "    prediction = prediction.numpy()\n",
    "    plot_image(prediction, f\"{ln.lovely(prediction)}\")\n",
    "\n",
    "    mask = load_image(mask_png_path)\n",
    "\n",
    "    prediction = prediction * mask\n",
    "    plot_image(prediction, f\"{ln.lovely(prediction)}\")\n",
    "\n",
    "    prediction = np.where(prediction > THRESHOLD, 1, 0).astype(np.uint8)\n",
    "    plot_image(prediction, f\"{ln.lovely(prediction)}\")\n",
    "\n",
    "    prediction_rle = rle(prediction)\n",
    "    predictions_rle.append(prediction_rle)\n",
    "\n",
    "    plot_image(prediction, f\"{ln.lovely(prediction)}\")\n",
    "        \n",
    "    del prediction\n",
    "    \n",
    "submission_df[\"Predicted\"] = predictions_rle\n",
    "submission_df.to_csv(\"submission.csv\", index=False)\n",
    "submission_df"
   ]
  },
  {
   "cell_type": "code",
   "execution_count": null,
   "metadata": {},
   "outputs": [],
   "source": []
  }
 ],
 "metadata": {
  "kernelspec": {
   "display_name": "Python 3 (ipykernel)",
   "language": "python",
   "name": "python3"
  },
  "language_info": {
   "codemirror_mode": {
    "name": "ipython",
    "version": 3
   },
   "file_extension": ".py",
   "mimetype": "text/x-python",
   "name": "python",
   "nbconvert_exporter": "python",
   "pygments_lexer": "ipython3",
   "version": "3.10.9"
  }
 },
 "nbformat": 4,
 "nbformat_minor": 4
}

{
 "cells": [
  {
   "cell_type": "markdown",
   "metadata": {
    "_cell_guid": "b1076dfc-b9ad-4769-8c92-a6c4dae69d19",
    "_uuid": "8f2839f25d086af736a60e9eeb907d3b93b6e0e5"
   },
   "source": [
    "# Vesuvis Data Preparation\n",
    "\n",
    "From https://www.kaggle.com/code/clemchris/vesuvis-data-preparation"
   ]
  },
  {
   "cell_type": "code",
   "execution_count": 7,
   "metadata": {},
   "outputs": [
    {
     "name": "stdout",
     "output_type": "stream",
     "text": [
      "* \u001b[32mmain\u001b[m\n",
      " \u001b[31mM\u001b[m ../Dockerfile\n",
      "\u001b[31m??\u001b[m vesuvis-pytorch-monai.ipynb\n",
      "hpz8\n"
     ]
    }
   ],
   "source": [
    "!git config --global --add safe.directory /host\n",
    "\n",
    "!git branch\n",
    "!git status --short\n",
    "!hostname"
   ]
  },
  {
   "cell_type": "markdown",
   "metadata": {},
   "source": [
    "# Imports"
   ]
  },
  {
   "cell_type": "code",
   "execution_count": 8,
   "metadata": {
    "execution": {
     "iopub.execute_input": "2023-05-03T19:56:06.435625Z",
     "iopub.status.busy": "2023-05-03T19:56:06.434629Z",
     "iopub.status.idle": "2023-05-03T19:56:06.694419Z",
     "shell.execute_reply": "2023-05-03T19:56:06.692855Z",
     "shell.execute_reply.started": "2023-05-03T19:56:06.435578Z"
    }
   },
   "outputs": [],
   "source": [
    "from pathlib import Path\n",
    "\n",
    "import numpy as np\n",
    "import pandas as pd\n",
    "import PIL.Image as Image\n",
    "from tqdm.notebook import tqdm"
   ]
  },
  {
   "cell_type": "markdown",
   "metadata": {},
   "source": [
    "# Paths & Settings"
   ]
  },
  {
   "cell_type": "code",
   "execution_count": 9,
   "metadata": {
    "execution": {
     "iopub.execute_input": "2023-05-03T19:56:06.699676Z",
     "iopub.status.busy": "2023-05-03T19:56:06.698721Z",
     "iopub.status.idle": "2023-05-03T19:56:06.709763Z",
     "shell.execute_reply": "2023-05-03T19:56:06.707948Z",
     "shell.execute_reply.started": "2023-05-03T19:56:06.699611Z"
    }
   },
   "outputs": [],
   "source": [
    "COMPETITION_DATA_DIR = Path(\"/data/\")\n",
    "TEST_DATA_CSV_PATH = COMPETITION_DATA_DIR/\"test.csv\""
   ]
  },
  {
   "cell_type": "markdown",
   "metadata": {},
   "source": [
    "# Prepare DataFrame"
   ]
  },
  {
   "cell_type": "code",
   "execution_count": 10,
   "metadata": {
    "execution": {
     "iopub.execute_input": "2023-05-03T19:56:06.712941Z",
     "iopub.status.busy": "2023-05-03T19:56:06.712153Z",
     "iopub.status.idle": "2023-05-03T19:56:06.739700Z",
     "shell.execute_reply": "2023-05-03T19:56:06.738108Z",
     "shell.execute_reply.started": "2023-05-03T19:56:06.712873Z"
    }
   },
   "outputs": [],
   "source": [
    "def create_df_from_mask_paths(stage):\n",
    "    mask_paths = sorted(COMPETITION_DATA_DIR.glob(f\"{stage}/*/mask.png\"))\n",
    "\n",
    "    df = pd.DataFrame({\"mask_png\": mask_paths})\n",
    "\n",
    "    df[\"mask_png\"] = df[\"mask_png\"].astype(str)\n",
    "\n",
    "    df[\"stage\"] = df[\"mask_png\"].str.split(\"/\").str[-3]\n",
    "    df[\"fragment_id\"] = df[\"mask_png\"].str.split(\"/\").str[-2]\n",
    "\n",
    "    df[\"mask_npy\"] = df[\"mask_png\"].str.replace(\n",
    "        stage, f\"{stage}\", regex=False\n",
    "    )\n",
    "    df[\"mask_npy\"] = df[\"mask_npy\"].str.replace(\"input\", \"working\", regex=False)\n",
    "    df[\"mask_npy\"] = df[\"mask_npy\"].str.replace(\"png\", \"npy\", regex=False)\n",
    "\n",
    "    if stage == \"train\":\n",
    "        df[\"label_png\"] = df[\"mask_png\"].str.replace(\"mask\", \"inklabels\", regex=False)\n",
    "        df[\"label_npy\"] = df[\"mask_npy\"].str.replace(\"mask\", \"inklabels\", regex=False)\n",
    "\n",
    "    df[\"volumes_dir\"] = df[\"mask_png\"].str.replace(\n",
    "        \"mask.png\", \"surface_volume\", regex=False\n",
    "    )\n",
    "    df[\"volume_npy\"] = df[\"mask_npy\"].str.replace(\"mask\", \"volume\", regex=False)\n",
    "\n",
    "    return df"
   ]
  },
  {
   "cell_type": "code",
   "execution_count": 11,
   "metadata": {
    "execution": {
     "iopub.execute_input": "2023-05-03T19:56:06.741575Z",
     "iopub.status.busy": "2023-05-03T19:56:06.741171Z",
     "iopub.status.idle": "2023-05-03T19:56:06.782109Z",
     "shell.execute_reply": "2023-05-03T19:56:06.781062Z",
     "shell.execute_reply.started": "2023-05-03T19:56:06.741516Z"
    }
   },
   "outputs": [],
   "source": [
    "train_df = create_df_from_mask_paths(\"train\")"
   ]
  },
  {
   "cell_type": "code",
   "execution_count": 12,
   "metadata": {
    "execution": {
     "iopub.execute_input": "2023-05-03T19:56:06.798876Z",
     "iopub.status.busy": "2023-05-03T19:56:06.797193Z",
     "iopub.status.idle": "2023-05-03T19:56:06.835492Z",
     "shell.execute_reply": "2023-05-03T19:56:06.834025Z",
     "shell.execute_reply.started": "2023-05-03T19:56:06.798812Z"
    }
   },
   "outputs": [
    {
     "data": {
      "text/html": [
       "<div>\n",
       "<style scoped>\n",
       "    .dataframe tbody tr th:only-of-type {\n",
       "        vertical-align: middle;\n",
       "    }\n",
       "\n",
       "    .dataframe tbody tr th {\n",
       "        vertical-align: top;\n",
       "    }\n",
       "\n",
       "    .dataframe thead th {\n",
       "        text-align: right;\n",
       "    }\n",
       "</style>\n",
       "<table border=\"1\" class=\"dataframe\">\n",
       "  <thead>\n",
       "    <tr style=\"text-align: right;\">\n",
       "      <th></th>\n",
       "      <th>mask_png</th>\n",
       "      <th>stage</th>\n",
       "      <th>fragment_id</th>\n",
       "      <th>mask_npy</th>\n",
       "      <th>label_png</th>\n",
       "      <th>label_npy</th>\n",
       "      <th>volumes_dir</th>\n",
       "      <th>volume_npy</th>\n",
       "    </tr>\n",
       "  </thead>\n",
       "  <tbody>\n",
       "    <tr>\n",
       "      <th>0</th>\n",
       "      <td>/data/train/1/mask.png</td>\n",
       "      <td>train</td>\n",
       "      <td>1</td>\n",
       "      <td>/data/train/1/mask.npy</td>\n",
       "      <td>/data/train/1/inklabels.png</td>\n",
       "      <td>/data/train/1/inklabels.npy</td>\n",
       "      <td>/data/train/1/surface_volume</td>\n",
       "      <td>/data/train/1/volume.npy</td>\n",
       "    </tr>\n",
       "    <tr>\n",
       "      <th>1</th>\n",
       "      <td>/data/train/2/mask.png</td>\n",
       "      <td>train</td>\n",
       "      <td>2</td>\n",
       "      <td>/data/train/2/mask.npy</td>\n",
       "      <td>/data/train/2/inklabels.png</td>\n",
       "      <td>/data/train/2/inklabels.npy</td>\n",
       "      <td>/data/train/2/surface_volume</td>\n",
       "      <td>/data/train/2/volume.npy</td>\n",
       "    </tr>\n",
       "    <tr>\n",
       "      <th>2</th>\n",
       "      <td>/data/train/3/mask.png</td>\n",
       "      <td>train</td>\n",
       "      <td>3</td>\n",
       "      <td>/data/train/3/mask.npy</td>\n",
       "      <td>/data/train/3/inklabels.png</td>\n",
       "      <td>/data/train/3/inklabels.npy</td>\n",
       "      <td>/data/train/3/surface_volume</td>\n",
       "      <td>/data/train/3/volume.npy</td>\n",
       "    </tr>\n",
       "  </tbody>\n",
       "</table>\n",
       "</div>"
      ],
      "text/plain": [
       "                 mask_png  stage fragment_id                mask_npy   \n",
       "0  /data/train/1/mask.png  train           1  /data/train/1/mask.npy  \\\n",
       "1  /data/train/2/mask.png  train           2  /data/train/2/mask.npy   \n",
       "2  /data/train/3/mask.png  train           3  /data/train/3/mask.npy   \n",
       "\n",
       "                     label_png                    label_npy   \n",
       "0  /data/train/1/inklabels.png  /data/train/1/inklabels.npy  \\\n",
       "1  /data/train/2/inklabels.png  /data/train/2/inklabels.npy   \n",
       "2  /data/train/3/inklabels.png  /data/train/3/inklabels.npy   \n",
       "\n",
       "                    volumes_dir                volume_npy  \n",
       "0  /data/train/1/surface_volume  /data/train/1/volume.npy  \n",
       "1  /data/train/2/surface_volume  /data/train/2/volume.npy  \n",
       "2  /data/train/3/surface_volume  /data/train/3/volume.npy  "
      ]
     },
     "execution_count": 12,
     "metadata": {},
     "output_type": "execute_result"
    }
   ],
   "source": [
    "train_df"
   ]
  },
  {
   "cell_type": "code",
   "execution_count": 15,
   "metadata": {},
   "outputs": [
    {
     "data": {
      "text/html": [
       "<div>\n",
       "<style scoped>\n",
       "    .dataframe tbody tr th:only-of-type {\n",
       "        vertical-align: middle;\n",
       "    }\n",
       "\n",
       "    .dataframe tbody tr th {\n",
       "        vertical-align: top;\n",
       "    }\n",
       "\n",
       "    .dataframe thead th {\n",
       "        text-align: right;\n",
       "    }\n",
       "</style>\n",
       "<table border=\"1\" class=\"dataframe\">\n",
       "  <thead>\n",
       "    <tr style=\"text-align: right;\">\n",
       "      <th></th>\n",
       "      <th>mask_png</th>\n",
       "      <th>stage</th>\n",
       "      <th>fragment_id</th>\n",
       "      <th>mask_npy</th>\n",
       "      <th>volumes_dir</th>\n",
       "      <th>volume_npy</th>\n",
       "    </tr>\n",
       "  </thead>\n",
       "  <tbody>\n",
       "    <tr>\n",
       "      <th>0</th>\n",
       "      <td>/data/test/a/mask.png</td>\n",
       "      <td>test</td>\n",
       "      <td>a</td>\n",
       "      <td>/data/test/a/mask.npy</td>\n",
       "      <td>/data/test/a/surface_volume</td>\n",
       "      <td>/data/test/a/volume.npy</td>\n",
       "    </tr>\n",
       "    <tr>\n",
       "      <th>1</th>\n",
       "      <td>/data/test/b/mask.png</td>\n",
       "      <td>test</td>\n",
       "      <td>b</td>\n",
       "      <td>/data/test/b/mask.npy</td>\n",
       "      <td>/data/test/b/surface_volume</td>\n",
       "      <td>/data/test/b/volume.npy</td>\n",
       "    </tr>\n",
       "  </tbody>\n",
       "</table>\n",
       "</div>"
      ],
      "text/plain": [
       "                mask_png stage fragment_id               mask_npy   \n",
       "0  /data/test/a/mask.png  test           a  /data/test/a/mask.npy  \\\n",
       "1  /data/test/b/mask.png  test           b  /data/test/b/mask.npy   \n",
       "\n",
       "                   volumes_dir               volume_npy  \n",
       "0  /data/test/a/surface_volume  /data/test/a/volume.npy  \n",
       "1  /data/test/b/surface_volume  /data/test/b/volume.npy  "
      ]
     },
     "execution_count": 15,
     "metadata": {},
     "output_type": "execute_result"
    }
   ],
   "source": [
    "test_df = create_df_from_mask_paths(\"test\")\n",
    "\n",
    "test_df.to_csv(TEST_DATA_CSV_PATH)\n",
    "test_df"
   ]
  },
  {
   "cell_type": "markdown",
   "metadata": {},
   "source": [
    "# Convert Data to NumPy\n",
    "\n",
    "## Based on https://www.kaggle.com/code/jpposma/vesuvius-challenge-ink-detection-tutorial"
   ]
  },
  {
   "cell_type": "code",
   "execution_count": 16,
   "metadata": {
    "execution": {
     "iopub.execute_input": "2023-05-03T20:03:08.196505Z",
     "iopub.status.busy": "2023-05-03T20:03:08.195989Z",
     "iopub.status.idle": "2023-05-03T20:03:08.234624Z",
     "shell.execute_reply": "2023-05-03T20:03:08.233073Z",
     "shell.execute_reply.started": "2023-05-03T20:03:08.196462Z"
    }
   },
   "outputs": [],
   "source": [
    "def load_image(path):\n",
    "    return Image.open(path)\n",
    "\n",
    "def load_label_npy(path):\n",
    "    label = load_image(path)\n",
    "    return np.array(label) > 0\n",
    "\n",
    "\n",
    "def load_mask_npy(path):\n",
    "    mask = load_image(path).convert(\"1\")\n",
    "    return np.array(mask)\n",
    "\n",
    "\n",
    "def load_z_slice_npy(path):\n",
    "    z_slice = load_image(path)\n",
    "    return np.array(z_slice, dtype=np.float32) / 65535.0\n",
    "\n",
    "\n",
    "def load_volume_npy(volumes_dir):\n",
    "    z_slices_paths = sorted(Path(volumes_dir).glob(\"*.tif\"))\n",
    "\n",
    "    z_first = load_z_slice_npy(z_slices_paths[0])\n",
    "    z_slices = np.zeros(\n",
    "        (len(z_slices_paths), z_first.shape[0], z_first.shape[1]), dtype=z_first.dtype\n",
    "    )\n",
    "    z_slices[0] = z_first\n",
    "    \n",
    "    tqdm.write(f\"z_slices.shape {z_slices.shape}\")\n",
    "    for i in tqdm(range(1, len(z_slices_paths)), position=1):\n",
    "        z_slices[i] = load_z_slice_npy(z_slices_paths[i])\n",
    "    return z_slices"
   ]
  },
  {
   "cell_type": "code",
   "execution_count": 17,
   "metadata": {
    "execution": {
     "iopub.execute_input": "2023-05-03T20:03:08.580362Z",
     "iopub.status.busy": "2023-05-03T20:03:08.578888Z",
     "iopub.status.idle": "2023-05-03T20:03:08.596036Z",
     "shell.execute_reply": "2023-05-03T20:03:08.594423Z",
     "shell.execute_reply.started": "2023-05-03T20:03:08.580303Z"
    }
   },
   "outputs": [],
   "source": [
    "def save_data_as_npy(df, train=True):\n",
    "    for row in tqdm(\n",
    "        df.itertuples(), total=len(df), desc=\"Processing fragments\", position=0\n",
    "    ):\n",
    "        mask_npy = load_mask_npy(row.mask_png)\n",
    "        volume_npy = load_volume_npy(row.volumes_dir)\n",
    "\n",
    "        Path(row.mask_npy).parent.mkdir(exist_ok=True, parents=True)\n",
    "        np.save(row.mask_npy, mask_npy)\n",
    "        np.save(row.volume_npy, volume_npy)\n",
    "        tqdm.write(f\"Created {row.volume_npy} with shape {volume_npy.shape}\")\n",
    "        del mask_npy\n",
    "        del volume_npy\n",
    "\n",
    "        if train:\n",
    "            label_npy = load_label_npy(row.label_png)\n",
    "            np.save(row.label_npy, label_npy)\n",
    "            del label_npy"
   ]
  },
  {
   "cell_type": "code",
   "execution_count": null,
   "metadata": {
    "execution": {
     "iopub.execute_input": "2023-05-03T20:03:09.393182Z",
     "iopub.status.busy": "2023-05-03T20:03:09.392711Z"
    }
   },
   "outputs": [],
   "source": [
    "save_data_as_npy(train_df)"
   ]
  },
  {
   "cell_type": "code",
   "execution_count": 18,
   "metadata": {},
   "outputs": [
    {
     "data": {
      "application/vnd.jupyter.widget-view+json": {
       "model_id": "bb9452d0a3954e13a24a231aea3107d2",
       "version_major": 2,
       "version_minor": 0
      },
      "text/plain": [
       "Processing fragments:   0%|          | 0/2 [00:00<?, ?it/s]"
      ]
     },
     "metadata": {},
     "output_type": "display_data"
    },
    {
     "name": "stdout",
     "output_type": "stream",
     "text": [
      "z_slices.shape (65, 2727, 6330)\n"
     ]
    },
    {
     "data": {
      "application/vnd.jupyter.widget-view+json": {
       "model_id": "af270836fdd44834a9b128a16408b8ab",
       "version_major": 2,
       "version_minor": 0
      },
      "text/plain": [
       "  0%|          | 0/64 [00:00<?, ?it/s]"
      ]
     },
     "metadata": {},
     "output_type": "display_data"
    },
    {
     "name": "stdout",
     "output_type": "stream",
     "text": [
      "Created /data/test/a/volume.npy with shape (65, 2727, 6330)\n",
      "z_slices.shape (65, 5454, 6330)\n"
     ]
    },
    {
     "data": {
      "application/vnd.jupyter.widget-view+json": {
       "model_id": "8e1556d34a334dcdaa8a0464a198fefc",
       "version_major": 2,
       "version_minor": 0
      },
      "text/plain": [
       "  0%|          | 0/64 [00:00<?, ?it/s]"
      ]
     },
     "metadata": {},
     "output_type": "display_data"
    },
    {
     "name": "stdout",
     "output_type": "stream",
     "text": [
      "Created /data/test/b/volume.npy with shape (65, 5454, 6330)\n"
     ]
    }
   ],
   "source": [
    "save_data_as_npy(test_df, train=False)"
   ]
  },
  {
   "cell_type": "code",
   "execution_count": 22,
   "metadata": {},
   "outputs": [
    {
     "name": "stdout",
     "output_type": "stream",
     "text": [
      "-rw-r--r-- 1 1001 1001 13G May  4 04:49 /data/train/1/volume.npy\r\n"
     ]
    }
   ],
   "source": [
    "!ls -ltrh /data/train/1/volume.npy"
   ]
  },
  {
   "cell_type": "code",
   "execution_count": 23,
   "metadata": {},
   "outputs": [],
   "source": [
    "import numpy as np"
   ]
  },
  {
   "cell_type": "code",
   "execution_count": 24,
   "metadata": {},
   "outputs": [],
   "source": [
    "a = np.load('/data/train/1/volume.npy')"
   ]
  },
  {
   "cell_type": "code",
   "execution_count": 26,
   "metadata": {},
   "outputs": [
    {
     "data": {
      "text/plain": [
       "(65, 8181, 6330)"
      ]
     },
     "execution_count": 26,
     "metadata": {},
     "output_type": "execute_result"
    }
   ],
   "source": [
    "a.shape"
   ]
  },
  {
   "cell_type": "markdown",
   "metadata": {},
   "source": [
    "# Fix paths"
   ]
  },
  {
   "cell_type": "code",
   "execution_count": null,
   "metadata": {
    "execution": {
     "iopub.status.busy": "2023-05-03T19:56:07.510087Z",
     "iopub.status.idle": "2023-05-03T19:56:07.511205Z",
     "shell.execute_reply": "2023-05-03T19:56:07.510890Z",
     "shell.execute_reply.started": "2023-05-03T19:56:07.510848Z"
    }
   },
   "outputs": [],
   "source": [
    "train_df[\"label_npy\"] = train_df[\"label_npy\"].str.replace(\n",
    "    \"working\", \"input/vesuvis-data-preparation\", regex=False\n",
    ")\n",
    "train_df[\"mask_npy\"] = train_df[\"mask_npy\"].str.replace(\n",
    "    \"working\", \"input/vesuvis-data-preparation\", regex=False\n",
    ")\n",
    "train_df[\"volume_npy\"] = train_df[\"volume_npy\"].str.replace(\n",
    "    \"working\", \"input/vesuvis-data-preparation\", regex=False\n",
    ")\n",
    "\n",
    "train_df.to_csv(COMPETITION_DATA_DIR/\"data.csv\")"
   ]
  },
  {
   "cell_type": "code",
   "execution_count": null,
   "metadata": {
    "execution": {
     "iopub.status.busy": "2023-05-03T19:56:07.513097Z",
     "iopub.status.idle": "2023-05-03T19:56:07.514182Z",
     "shell.execute_reply": "2023-05-03T19:56:07.513792Z",
     "shell.execute_reply.started": "2023-05-03T19:56:07.513756Z"
    }
   },
   "outputs": [],
   "source": [
    "! ls -ltrh /data/"
   ]
  },
  {
   "cell_type": "code",
   "execution_count": null,
   "metadata": {},
   "outputs": [],
   "source": [
    "train_df"
   ]
  }
 ],
 "metadata": {
  "kernelspec": {
   "display_name": "Python 3 (ipykernel)",
   "language": "python",
   "name": "python3"
  },
  "language_info": {
   "codemirror_mode": {
    "name": "ipython",
    "version": 3
   },
   "file_extension": ".py",
   "mimetype": "text/x-python",
   "name": "python",
   "nbconvert_exporter": "python",
   "pygments_lexer": "ipython3",
   "version": "3.10.9"
  }
 },
 "nbformat": 4,
 "nbformat_minor": 4
}

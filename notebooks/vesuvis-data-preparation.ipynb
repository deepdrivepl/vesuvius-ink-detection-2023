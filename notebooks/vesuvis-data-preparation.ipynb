{
 "cells": [
  {
   "cell_type": "markdown",
   "metadata": {
    "_cell_guid": "b1076dfc-b9ad-4769-8c92-a6c4dae69d19",
    "_uuid": "8f2839f25d086af736a60e9eeb907d3b93b6e0e5"
   },
   "source": [
    "# Vesuvis Data Preparation"
   ]
  },
  {
   "cell_type": "code",
   "execution_count": null,
   "metadata": {},
   "outputs": [],
   "source": [
    "!git config --global --add safe.directory /host\n",
    "\n",
    "!git branch\n",
    "!git status --short\n",
    "!hostname"
   ]
  },
  {
   "cell_type": "markdown",
   "metadata": {},
   "source": [
    "# Imports"
   ]
  },
  {
   "cell_type": "code",
   "execution_count": null,
   "metadata": {
    "execution": {
     "iopub.execute_input": "2023-05-03T19:56:06.435625Z",
     "iopub.status.busy": "2023-05-03T19:56:06.434629Z",
     "iopub.status.idle": "2023-05-03T19:56:06.694419Z",
     "shell.execute_reply": "2023-05-03T19:56:06.692855Z",
     "shell.execute_reply.started": "2023-05-03T19:56:06.435578Z"
    }
   },
   "outputs": [],
   "source": [
    "from pathlib import Path\n",
    "\n",
    "import numpy as np\n",
    "import pandas as pd\n",
    "import PIL.Image as Image\n",
    "from tqdm.notebook import tqdm"
   ]
  },
  {
   "cell_type": "markdown",
   "metadata": {},
   "source": [
    "# Paths & Settings"
   ]
  },
  {
   "cell_type": "code",
   "execution_count": null,
   "metadata": {
    "execution": {
     "iopub.execute_input": "2023-05-03T19:56:06.699676Z",
     "iopub.status.busy": "2023-05-03T19:56:06.698721Z",
     "iopub.status.idle": "2023-05-03T19:56:06.709763Z",
     "shell.execute_reply": "2023-05-03T19:56:06.707948Z",
     "shell.execute_reply.started": "2023-05-03T19:56:06.699611Z"
    }
   },
   "outputs": [],
   "source": [
    "COMPETITION_DATA_DIR = Path(\"/data/\")"
   ]
  },
  {
   "cell_type": "markdown",
   "metadata": {},
   "source": [
    "# Prepare DataFrame"
   ]
  },
  {
   "cell_type": "code",
   "execution_count": null,
   "metadata": {
    "execution": {
     "iopub.execute_input": "2023-05-03T19:56:06.712941Z",
     "iopub.status.busy": "2023-05-03T19:56:06.712153Z",
     "iopub.status.idle": "2023-05-03T19:56:06.739700Z",
     "shell.execute_reply": "2023-05-03T19:56:06.738108Z",
     "shell.execute_reply.started": "2023-05-03T19:56:06.712873Z"
    }
   },
   "outputs": [],
   "source": [
    "def create_df_from_mask_paths(stage):\n",
    "    mask_paths = sorted(COMPETITION_DATA_DIR.glob(f\"{stage}/*/mask.png\"))\n",
    "\n",
    "    df = pd.DataFrame({\"mask_png\": mask_paths})\n",
    "\n",
    "    df[\"mask_png\"] = df[\"mask_png\"].astype(str)\n",
    "\n",
    "    df[\"stage\"] = df[\"mask_png\"].str.split(\"/\").str[-3]\n",
    "    df[\"fragment_id\"] = df[\"mask_png\"].str.split(\"/\").str[-2]\n",
    "\n",
    "    df[\"mask_npy\"] = df[\"mask_png\"].str.replace(\n",
    "        stage, f\"{stage}\", regex=False\n",
    "    )\n",
    "    df[\"mask_npy\"] = df[\"mask_npy\"].str.replace(\"input\", \"working\", regex=False)\n",
    "    df[\"mask_npy\"] = df[\"mask_npy\"].str.replace(\"png\", \"npy\", regex=False)\n",
    "\n",
    "    if stage == \"train\":\n",
    "        df[\"label_png\"] = df[\"mask_png\"].str.replace(\"mask\", \"inklabels\", regex=False)\n",
    "        df[\"label_npy\"] = df[\"mask_npy\"].str.replace(\"mask\", \"inklabels\", regex=False)\n",
    "\n",
    "    df[\"volumes_dir\"] = df[\"mask_png\"].str.replace(\n",
    "        \"mask.png\", \"surface_volume\", regex=False\n",
    "    )\n",
    "    df[\"volume_npy\"] = df[\"mask_npy\"].str.replace(\"mask\", \"volume\", regex=False)\n",
    "\n",
    "    return df"
   ]
  },
  {
   "cell_type": "code",
   "execution_count": null,
   "metadata": {
    "execution": {
     "iopub.execute_input": "2023-05-03T19:56:06.741575Z",
     "iopub.status.busy": "2023-05-03T19:56:06.741171Z",
     "iopub.status.idle": "2023-05-03T19:56:06.782109Z",
     "shell.execute_reply": "2023-05-03T19:56:06.781062Z",
     "shell.execute_reply.started": "2023-05-03T19:56:06.741516Z"
    }
   },
   "outputs": [],
   "source": [
    "train_df = create_df_from_mask_paths(\"train\")"
   ]
  },
  {
   "cell_type": "code",
   "execution_count": null,
   "metadata": {
    "execution": {
     "iopub.execute_input": "2023-05-03T19:56:06.798876Z",
     "iopub.status.busy": "2023-05-03T19:56:06.797193Z",
     "iopub.status.idle": "2023-05-03T19:56:06.835492Z",
     "shell.execute_reply": "2023-05-03T19:56:06.834025Z",
     "shell.execute_reply.started": "2023-05-03T19:56:06.798812Z"
    }
   },
   "outputs": [],
   "source": [
    "train_df"
   ]
  },
  {
   "cell_type": "markdown",
   "metadata": {},
   "source": [
    "# Convert Data to NumPy\n",
    "\n",
    "## Based on https://www.kaggle.com/code/jpposma/vesuvius-challenge-ink-detection-tutorial"
   ]
  },
  {
   "cell_type": "code",
   "execution_count": null,
   "metadata": {
    "execution": {
     "iopub.execute_input": "2023-05-03T20:03:08.196505Z",
     "iopub.status.busy": "2023-05-03T20:03:08.195989Z",
     "iopub.status.idle": "2023-05-03T20:03:08.234624Z",
     "shell.execute_reply": "2023-05-03T20:03:08.233073Z",
     "shell.execute_reply.started": "2023-05-03T20:03:08.196462Z"
    }
   },
   "outputs": [],
   "source": [
    "def load_image(path):\n",
    "    return Image.open(path)\n",
    "\n",
    "def load_label_npy(path):\n",
    "    label = load_image(path)\n",
    "    return np.array(label) > 0\n",
    "\n",
    "\n",
    "def load_mask_npy(path):\n",
    "    mask = load_image(path).convert(\"1\")\n",
    "    return np.array(mask)\n",
    "\n",
    "\n",
    "def load_z_slice_npy(path):\n",
    "    z_slice = load_image(path)\n",
    "    return np.array(z_slice, dtype=np.float32) / 65535.0\n",
    "\n",
    "\n",
    "def load_volume_npy(volumes_dir):\n",
    "    z_slices_paths = sorted(Path(volumes_dir).glob(\"*.tif\"))\n",
    "\n",
    "    z_first = load_z_slice_npy(z_slices_paths[0])\n",
    "    z_slices = np.zeros(\n",
    "        (len(z_slices_paths), z_first.shape[0], z_first.shape[1]), dtype=z_first.dtype\n",
    "    )\n",
    "    z_slices[0] = z_first\n",
    "    \n",
    "    tqdm.write(f\"z_slices.shape {z_slices.shape}\")\n",
    "    for i in tqdm(range(1, len(z_slices_paths)), position=1):\n",
    "        z_slices[i] = load_z_slice_npy(z_slices_paths[i])\n",
    "    return z_slices"
   ]
  },
  {
   "cell_type": "code",
   "execution_count": null,
   "metadata": {
    "execution": {
     "iopub.execute_input": "2023-05-03T20:03:08.580362Z",
     "iopub.status.busy": "2023-05-03T20:03:08.578888Z",
     "iopub.status.idle": "2023-05-03T20:03:08.596036Z",
     "shell.execute_reply": "2023-05-03T20:03:08.594423Z",
     "shell.execute_reply.started": "2023-05-03T20:03:08.580303Z"
    }
   },
   "outputs": [],
   "source": [
    "def save_data_as_npy(df, train=True):\n",
    "    for row in tqdm(\n",
    "        df.itertuples(), total=len(df), desc=\"Processing fragments\", position=0\n",
    "    ):\n",
    "        mask_npy = load_mask_npy(row.mask_png)\n",
    "        volume_npy = load_volume_npy(row.volumes_dir)\n",
    "\n",
    "        Path(row.mask_npy).parent.mkdir(exist_ok=True, parents=True)\n",
    "        np.save(row.mask_npy, mask_npy)\n",
    "        np.save(row.volume_npy, volume_npy)\n",
    "        tqdm.write(f\"Created {row.volume_npy} with shape {volume_npy.shape}\")\n",
    "        del mask_npy\n",
    "        del volume_npy\n",
    "\n",
    "        if train:\n",
    "            label_npy = load_label_npy(row.label_png)\n",
    "            np.save(row.label_npy, label_npy)\n",
    "            del label_npy"
   ]
  },
  {
   "cell_type": "code",
   "execution_count": null,
   "metadata": {
    "execution": {
     "iopub.execute_input": "2023-05-03T20:03:09.393182Z",
     "iopub.status.busy": "2023-05-03T20:03:09.392711Z"
    }
   },
   "outputs": [],
   "source": [
    "save_data_as_npy(train_df)"
   ]
  },
  {
   "cell_type": "markdown",
   "metadata": {},
   "source": [
    "# Fix paths"
   ]
  },
  {
   "cell_type": "code",
   "execution_count": null,
   "metadata": {
    "execution": {
     "iopub.status.busy": "2023-05-03T19:56:07.510087Z",
     "iopub.status.idle": "2023-05-03T19:56:07.511205Z",
     "shell.execute_reply": "2023-05-03T19:56:07.510890Z",
     "shell.execute_reply.started": "2023-05-03T19:56:07.510848Z"
    }
   },
   "outputs": [],
   "source": [
    "train_df[\"label_npy\"] = train_df[\"label_npy\"].str.replace(\n",
    "    \"working\", \"input/vesuvis-data-preparation\", regex=False\n",
    ")\n",
    "train_df[\"mask_npy\"] = train_df[\"mask_npy\"].str.replace(\n",
    "    \"working\", \"input/vesuvis-data-preparation\", regex=False\n",
    ")\n",
    "train_df[\"volume_npy\"] = train_df[\"volume_npy\"].str.replace(\n",
    "    \"working\", \"input/vesuvis-data-preparation\", regex=False\n",
    ")\n",
    "\n",
    "train_df.to_csv(f\"data.csv\")"
   ]
  },
  {
   "cell_type": "code",
   "execution_count": null,
   "metadata": {
    "execution": {
     "iopub.status.busy": "2023-05-03T19:56:07.513097Z",
     "iopub.status.idle": "2023-05-03T19:56:07.514182Z",
     "shell.execute_reply": "2023-05-03T19:56:07.513792Z",
     "shell.execute_reply.started": "2023-05-03T19:56:07.513756Z"
    }
   },
   "outputs": [],
   "source": [
    "!ls"
   ]
  },
  {
   "cell_type": "code",
   "execution_count": null,
   "metadata": {},
   "outputs": [],
   "source": []
  }
 ],
 "metadata": {
  "kernelspec": {
   "display_name": "Python 3 (ipykernel)",
   "language": "python",
   "name": "python3"
  },
  "language_info": {
   "codemirror_mode": {
    "name": "ipython",
    "version": 3
   },
   "file_extension": ".py",
   "mimetype": "text/x-python",
   "name": "python",
   "nbconvert_exporter": "python",
   "pygments_lexer": "ipython3",
   "version": "3.10.9"
  }
 },
 "nbformat": 4,
 "nbformat_minor": 4
}
